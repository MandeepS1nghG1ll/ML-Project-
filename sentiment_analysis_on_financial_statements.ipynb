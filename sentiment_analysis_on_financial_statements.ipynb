{
 "cells": [
  {
   "cell_type": "markdown",
   "id": "45f8e451",
   "metadata": {},
   "source": [
    "# Logistic regression"
   ]
  },
  {
   "cell_type": "code",
   "execution_count": 37,
   "id": "dac8df7a",
   "metadata": {
    "scrolled": true
   },
   "outputs": [
    {
     "name": "stdout",
     "output_type": "stream",
     "text": [
      "Accuracy: 0.7409700722394221\n",
      "Classification Report:\n",
      "              precision    recall  f1-score   support\n",
      "\n",
      "    negative       0.78      0.43      0.56       115\n",
      "     neutral       0.74      0.90      0.81       567\n",
      "    positive       0.74      0.55      0.63       287\n",
      "\n",
      "    accuracy                           0.74       969\n",
      "   macro avg       0.75      0.63      0.67       969\n",
      "weighted avg       0.74      0.74      0.73       969\n",
      "\n"
     ]
    }
   ],
   "source": [
    "import pandas as pd\n",
    "from sklearn.feature_extraction.text import TfidfVectorizer\n",
    "from sklearn.model_selection import train_test_split\n",
    "from sklearn.linear_model import LogisticRegression\n",
    "from sklearn.metrics import accuracy_score, classification_report\n",
    "\n",
    "\n",
    "data = pd.read_csv('all-data.csv',delimiter=',',encoding='latin-1')\n",
    "data = data.rename(columns={'neutral':'sentiment','According to Gran , the company has no plans to move all production to Russia , although that is where the company is growing .':'Message'})\n",
    "\n",
    "\n",
    "# Split data into training and testing sets\n",
    "X_train, X_test, y_train, y_test = train_test_split(data['Message'], data['sentiment'], test_size=0.2, random_state=42)\n",
    "\n",
    "# Vectorize the text data using TF-IDF\n",
    "vectorizer = TfidfVectorizer(max_features=1000)\n",
    "X_train_vec = vectorizer.fit_transform(X_train)\n",
    "X_test_vec = vectorizer.transform(X_test)\n",
    "\n",
    "# Initialize and train logistic regression model\n",
    "model = LogisticRegression(max_iter=1000)\n",
    "model.fit(X_train_vec, y_train)\n",
    "\n",
    "# Predict sentiment labels for test data\n",
    "y_pred = model.predict(X_test_vec)\n",
    "\n",
    "# Evaluate model\n",
    "accuracy = accuracy_score(y_test, y_pred)\n",
    "print(\"Accuracy:\", accuracy)\n",
    "print(\"Classification Report:\")\n",
    "print(classification_report(y_test, y_pred))\n"
   ]
  },
  {
   "cell_type": "code",
   "execution_count": 38,
   "id": "fedb746c",
   "metadata": {
    "scrolled": true
   },
   "outputs": [
    {
     "name": "stdout",
     "output_type": "stream",
     "text": [
      "Message: I am very satisfied with the company's performance.\n",
      "Predicted Sentiment: positive\n",
      "\n",
      "Message: The recent changes in management have caused uncertainty.\n",
      "Predicted Sentiment: neutral\n",
      "\n",
      "Message: The company's profits are expected to increase next quarter.\n",
      "Predicted Sentiment: positive\n",
      "\n",
      "Message: There is a lack of transparency in the company's financial reports.\n",
      "Predicted Sentiment: neutral\n",
      "\n"
     ]
    }
   ],
   "source": [
    "# Example messages\n",
    "example_messages = [\n",
    "    \"I am very satisfied with the company's performance.\",\n",
    "    \"The recent changes in management have caused uncertainty.\",\n",
    "    \"The company's profits are expected to increase next quarter.\",\n",
    "    \"There is a lack of transparency in the company's financial reports.\"\n",
    "]\n",
    "\n",
    "X_example_vec = vectorizer.transform(example_messages)\n",
    "y_pred_example = model.predict(X_example_vec)\n",
    "for message, sentiment in zip(example_messages, y_pred_example):\n",
    "    print(f\"Message: {message}\")\n",
    "    print(f\"Predicted Sentiment: {sentiment}\")\n",
    "    print()\n"
   ]
  },
  {
   "cell_type": "markdown",
   "id": "b9cfd8af",
   "metadata": {},
   "source": [
    "# Naive bayes"
   ]
  },
  {
   "cell_type": "code",
   "execution_count": 39,
   "id": "abd54208",
   "metadata": {
    "scrolled": true
   },
   "outputs": [
    {
     "name": "stdout",
     "output_type": "stream",
     "text": [
      "Naive Bayes Accuracy: 0.7131062951496389\n",
      "Naive Bayes Classification Report:\n",
      "              precision    recall  f1-score   support\n",
      "\n",
      "    negative       0.83      0.39      0.53       115\n",
      "     neutral       0.71      0.94      0.81       567\n",
      "    positive       0.70      0.40      0.51       287\n",
      "\n",
      "    accuracy                           0.71       969\n",
      "   macro avg       0.75      0.58      0.62       969\n",
      "weighted avg       0.72      0.71      0.69       969\n",
      "\n"
     ]
    }
   ],
   "source": [
    "from sklearn.naive_bayes import MultinomialNB\n",
    "\n",
    "# Initialize and train Naive Bayes classifier\n",
    "nb_classifier = MultinomialNB()\n",
    "nb_classifier.fit(X_train_vec, y_train)\n",
    "\n",
    "y_pred_nb = nb_classifier.predict(X_test_vec)\n",
    "accuracy_nb = accuracy_score(y_test, y_pred_nb)\n",
    "print(\"Naive Bayes Accuracy:\", accuracy_nb)\n",
    "print(\"Naive Bayes Classification Report:\")\n",
    "print(classification_report(y_test, y_pred_nb))\n"
   ]
  },
  {
   "cell_type": "code",
   "execution_count": 40,
   "id": "65b0abfe",
   "metadata": {
    "scrolled": true
   },
   "outputs": [
    {
     "name": "stdout",
     "output_type": "stream",
     "text": [
      "Message: I am very satisfied with the company's performance.\n",
      "Predicted Sentiment: positive\n",
      "\n",
      "Message: The recent changes in management have caused uncertainty.\n",
      "Predicted Sentiment: neutral\n",
      "\n",
      "Message: The company's profits are expected to increase next quarter.\n",
      "Predicted Sentiment: positive\n",
      "\n",
      "Message: There is a lack of transparency in the company's financial reports.\n",
      "Predicted Sentiment: neutral\n",
      "\n"
     ]
    }
   ],
   "source": [
    "from sklearn.naive_bayes import MultinomialNB\n",
    "\n",
    "# Example messages\n",
    "example_messages = [\n",
    "    \"I am very satisfied with the company's performance.\",\n",
    "    \"The recent changes in management have caused uncertainty.\",\n",
    "    \"The company's profits are expected to increase next quarter.\",\n",
    "    \"There is a lack of transparency in the company's financial reports.\"\n",
    "]\n",
    "\n",
    "nb_classifier = MultinomialNB()\n",
    "nb_classifier.fit(X_train_vec, y_train)\n",
    "X_example_vec = vectorizer.transform(example_messages)\n",
    "y_pred_example_nb = nb_classifier.predict(X_example_vec)\n",
    "for message, sentiment in zip(example_messages, y_pred_example_nb):\n",
    "    print(f\"Message: {message}\")\n",
    "    print(f\"Predicted Sentiment: {sentiment}\")\n",
    "    print()\n"
   ]
  },
  {
   "cell_type": "markdown",
   "id": "8c62ecab",
   "metadata": {},
   "source": [
    "# SVC"
   ]
  },
  {
   "cell_type": "code",
   "execution_count": 41,
   "id": "0c9b4948",
   "metadata": {},
   "outputs": [
    {
     "name": "stdout",
     "output_type": "stream",
     "text": [
      "SVM Accuracy: 0.7512899896800825\n",
      "SVM Classification Report:\n",
      "              precision    recall  f1-score   support\n",
      "\n",
      "    negative       0.77      0.51      0.61       115\n",
      "     neutral       0.75      0.90      0.82       567\n",
      "    positive       0.75      0.56      0.64       287\n",
      "\n",
      "    accuracy                           0.75       969\n",
      "   macro avg       0.75      0.66      0.69       969\n",
      "weighted avg       0.75      0.75      0.74       969\n",
      "\n"
     ]
    }
   ],
   "source": [
    "from sklearn.svm import SVC\n",
    "\n",
    "# Initialize and train SVM classifier\n",
    "svm_classifier = SVC(kernel='linear')\n",
    "svm_classifier.fit(X_train_vec, y_train)\n",
    "\n",
    "# Predict sentiment labels for test data\n",
    "y_pred_svm = svm_classifier.predict(X_test_vec)\n",
    "\n",
    "# Evaluate SVM model\n",
    "accuracy_svm = accuracy_score(y_test, y_pred_svm)\n",
    "print(\"SVM Accuracy:\", accuracy_svm)\n",
    "print(\"SVM Classification Report:\")\n",
    "print(classification_report(y_test, y_pred_svm))\n"
   ]
  },
  {
   "cell_type": "markdown",
   "id": "3636728d",
   "metadata": {},
   "source": [
    "# Random Forest"
   ]
  },
  {
   "cell_type": "code",
   "execution_count": 42,
   "id": "7778bb70",
   "metadata": {},
   "outputs": [
    {
     "name": "stdout",
     "output_type": "stream",
     "text": [
      "Random Forest Accuracy: 0.7471620227038184\n",
      "Random Forest Classification Report:\n",
      "              precision    recall  f1-score   support\n",
      "\n",
      "    negative       0.86      0.42      0.56       115\n",
      "     neutral       0.73      0.96      0.83       567\n",
      "    positive       0.78      0.47      0.58       287\n",
      "\n",
      "    accuracy                           0.75       969\n",
      "   macro avg       0.79      0.61      0.66       969\n",
      "weighted avg       0.76      0.75      0.72       969\n",
      "\n"
     ]
    }
   ],
   "source": [
    "from sklearn.ensemble import RandomForestClassifier\n",
    "\n",
    "# Initialize and train Random Forest classifier\n",
    "rf_classifier = RandomForestClassifier(n_estimators=100)\n",
    "rf_classifier.fit(X_train_vec, y_train)\n",
    "\n",
    "# Predict sentiment labels for test data\n",
    "y_pred_rf = rf_classifier.predict(X_test_vec)\n",
    "\n",
    "# Evaluate Random Forest model\n",
    "accuracy_rf = accuracy_score(y_test, y_pred_rf)\n",
    "print(\"Random Forest Accuracy:\", accuracy_rf)\n",
    "print(\"Random Forest Classification Report:\")\n",
    "print(classification_report(y_test, y_pred_rf))\n"
   ]
  },
  {
   "cell_type": "markdown",
   "id": "4b07a025",
   "metadata": {},
   "source": [
    "# Gradient Boost "
   ]
  },
  {
   "cell_type": "code",
   "execution_count": 43,
   "id": "3a73ab4c",
   "metadata": {
    "scrolled": true
   },
   "outputs": [
    {
     "name": "stdout",
     "output_type": "stream",
     "text": [
      "Gradient Boosting Accuracy: 0.7368421052631579\n",
      "Gradient Boosting Classification Report:\n",
      "              precision    recall  f1-score   support\n",
      "\n",
      "    negative       0.64      0.48      0.55       115\n",
      "     neutral       0.76      0.87      0.81       567\n",
      "    positive       0.71      0.58      0.64       287\n",
      "\n",
      "    accuracy                           0.74       969\n",
      "   macro avg       0.70      0.64      0.67       969\n",
      "weighted avg       0.73      0.74      0.73       969\n",
      "\n"
     ]
    }
   ],
   "source": [
    "from sklearn.ensemble import GradientBoostingClassifier\n",
    "\n",
    "# Initialize and train Gradient Boosting classifier\n",
    "gbm_classifier = GradientBoostingClassifier(n_estimators=100, learning_rate=1.0, max_depth=1, random_state=42)\n",
    "gbm_classifier.fit(X_train_vec, y_train)\n",
    "\n",
    "# Predict sentiment labels for test data\n",
    "y_pred_gbm = gbm_classifier.predict(X_test_vec)\n",
    "\n",
    "# Evaluate GBM model\n",
    "accuracy_gbm = accuracy_score(y_test, y_pred_gbm)\n",
    "print(\"Gradient Boosting Accuracy:\", accuracy_gbm)\n",
    "print(\"Gradient Boosting Classification Report:\")\n",
    "print(classification_report(y_test, y_pred_gbm))\n"
   ]
  },
  {
   "cell_type": "markdown",
   "id": "06d46c19",
   "metadata": {},
   "source": [
    "# KNeighbors "
   ]
  },
  {
   "cell_type": "code",
   "execution_count": 44,
   "id": "5d037437",
   "metadata": {},
   "outputs": [
    {
     "name": "stdout",
     "output_type": "stream",
     "text": [
      "KNN Accuracy: 0.6934984520123839\n",
      "KNN Classification Report:\n",
      "              precision    recall  f1-score   support\n",
      "\n",
      "    negative       0.64      0.41      0.50       115\n",
      "     neutral       0.70      0.95      0.80       567\n",
      "    positive       0.70      0.30      0.42       287\n",
      "\n",
      "    accuracy                           0.69       969\n",
      "   macro avg       0.68      0.55      0.58       969\n",
      "weighted avg       0.69      0.69      0.65       969\n",
      "\n"
     ]
    }
   ],
   "source": [
    "from sklearn.neighbors import KNeighborsClassifier\n",
    "\n",
    "# Initialize and train KNN classifier\n",
    "knn_classifier = KNeighborsClassifier(n_neighbors=10)  # You can adjust the number of neighbors (k) as needed\n",
    "knn_classifier.fit(X_train_vec, y_train)\n",
    "\n",
    "# Predict sentiment labels for test data\n",
    "y_pred_knn = knn_classifier.predict(X_test_vec)\n",
    "\n",
    "# Evaluate KNN model\n",
    "accuracy_knn = accuracy_score(y_test, y_pred_knn)\n",
    "print(\"KNN Accuracy:\", accuracy_knn)\n",
    "print(\"KNN Classification Report:\")\n",
    "print(classification_report(y_test, y_pred_knn))\n"
   ]
  },
  {
   "cell_type": "markdown",
   "id": "27bd4e3a",
   "metadata": {},
   "source": [
    "# Word2Vec + Logistic Regression"
   ]
  },
  {
   "cell_type": "code",
   "execution_count": 45,
   "id": "60e1c102",
   "metadata": {
    "scrolled": true
   },
   "outputs": [
    {
     "name": "stderr",
     "output_type": "stream",
     "text": [
      "[nltk_data] Downloading package punkt to\n",
      "[nltk_data]     C:\\Users\\LENOVO\\AppData\\Roaming\\nltk_data...\n",
      "[nltk_data]   Package punkt is already up-to-date!\n"
     ]
    },
    {
     "name": "stdout",
     "output_type": "stream",
     "text": [
      "Word2Vec + Logistic Regression Accuracy: 0.7058823529411765\n",
      "Word2Vec + Logistic Regression Classification Report:\n",
      "              precision    recall  f1-score   support\n",
      "\n",
      "    negative       0.64      0.36      0.46       115\n",
      "     neutral       0.74      0.89      0.81       567\n",
      "    positive       0.62      0.48      0.54       287\n",
      "\n",
      "    accuracy                           0.71       969\n",
      "   macro avg       0.67      0.58      0.60       969\n",
      "weighted avg       0.69      0.71      0.69       969\n",
      "\n"
     ]
    }
   ],
   "source": [
    "from gensim.models import Word2Vec\n",
    "from gensim.models.word2vec import FAST_VERSION\n",
    "import nltk\n",
    "from nltk.tokenize import word_tokenize\n",
    "import numpy as np\n",
    "nltk.download('punkt')\n",
    "\n",
    "tokenized_sentences = [word_tokenize(sentence.lower()) for sentence in data['Message']]\n",
    "\n",
    "vector_size = 100  # Dimensionality of the word vectors\n",
    "window_size = 5  # Maximum distance between the current and predicted word within a sentence\n",
    "min_count = 1  # Minimum frequency count of words to consider in the model\n",
    "sg = 1  # Skip-gram model (set to 0 for CBOW)\n",
    "epochs = 50  # Number of iterations over the corpus\n",
    "\n",
    "word2vec_model = Word2Vec(sentences=tokenized_sentences, vector_size=vector_size, window=window_size, min_count=min_count, sg=sg, epochs=epochs, workers=4)\n",
    "\n",
    "# Function to average word vectors for a document\n",
    "def document_vector(word2vec_model, doc):\n",
    "    # Remove out-of-vocabulary words\n",
    "    doc = [word for word in doc if word in word2vec_model.wv.key_to_index]\n",
    "    if len(doc) != 0:\n",
    "        return np.mean(word2vec_model.wv[doc], axis=0)\n",
    "    else:\n",
    "        return np.zeros(vector_size)\n",
    "\n",
    "# Convert financial statements to document vectors\n",
    "X_w2v = np.array([document_vector(word2vec_model, doc) for doc in tokenized_sentences])\n",
    "\n",
    "X_train_w2v, X_test_w2v, y_train_w2v, y_test_w2v = train_test_split(X_w2v, data['sentiment'], test_size=0.2, random_state=42)\n",
    "\n",
    "# Train logistic regression on document vectors\n",
    "logistic_regression_w2v = LogisticRegression(max_iter=1000)\n",
    "logistic_regression_w2v.fit(X_train_w2v, y_train_w2v)\n",
    "\n",
    "# Predict sentiment labels for test data\n",
    "y_pred_w2v = logistic_regression_w2v.predict(X_test_w2v)\n",
    "\n",
    "# Evaluate the model\n",
    "accuracy_w2v = accuracy_score(y_test_w2v, y_pred_w2v)\n",
    "print(\"Word2Vec + Logistic Regression Accuracy:\", accuracy_w2v)\n",
    "print(\"Word2Vec + Logistic Regression Classification Report:\")\n",
    "print(classification_report(y_test_w2v, y_pred_w2v))\n"
   ]
  },
  {
   "cell_type": "markdown",
   "id": "947242b9",
   "metadata": {},
   "source": [
    "# Confusion Matrix"
   ]
  },
  {
   "cell_type": "code",
   "execution_count": 46,
   "id": "9cfd82b2",
   "metadata": {
    "scrolled": false
   },
   "outputs": [
    {
     "name": "stdout",
     "output_type": "stream",
     "text": [
      "Confusion Matrix for Logistic Regression:\n",
      "[[ 50  53  12]\n",
      " [ 12 511  44]\n",
      " [  2 128 157]]\n",
      "\n",
      "Confusion Matrix for Naive Bayes:\n",
      "[[ 45  53  17]\n",
      " [  4 532  31]\n",
      " [  5 168 114]]\n",
      "\n",
      "Confusion Matrix for SVM:\n",
      "[[ 59  48   8]\n",
      " [ 12 509  46]\n",
      " [  6 121 160]]\n",
      "\n",
      "Confusion Matrix for Random Forest:\n",
      "[[ 48  50  17]\n",
      " [  4 542  21]\n",
      " [  4 149 134]]\n",
      "\n",
      "Confusion Matrix for Gradient Boosting:\n",
      "[[ 55  45  15]\n",
      " [ 21 493  53]\n",
      " [ 10 111 166]]\n",
      "\n",
      "Confusion Matrix for K-Nearest Neighbors:\n",
      "[[ 47  52  16]\n",
      " [  7 538  22]\n",
      " [ 19 181  87]]\n",
      "\n",
      "Confusion Matrix for Word2Vec + Logistic Regression:\n",
      "[[ 41  42  32]\n",
      " [  9 506  52]\n",
      " [ 14 136 137]]\n"
     ]
    }
   ],
   "source": [
    "from sklearn.metrics import confusion_matrix\n",
    "\n",
    "# Confusion matrix for logistic regression model\n",
    "conf_matrix_lr = confusion_matrix(y_test, y_pred)\n",
    "print(\"Confusion Matrix for Logistic Regression:\")\n",
    "print(conf_matrix_lr)\n",
    "\n",
    "# Confusion matrix for Naive Bayes model\n",
    "conf_matrix_nb = confusion_matrix(y_test, y_pred_nb)\n",
    "print(\"\\nConfusion Matrix for Naive Bayes:\")\n",
    "print(conf_matrix_nb)\n",
    "\n",
    "# Confusion matrix for SVM model\n",
    "conf_matrix_svm = confusion_matrix(y_test, y_pred_svm)\n",
    "print(\"\\nConfusion Matrix for SVM:\")\n",
    "print(conf_matrix_svm)\n",
    "\n",
    "# Confusion matrix for Random Forest model\n",
    "conf_matrix_rf = confusion_matrix(y_test, y_pred_rf)\n",
    "print(\"\\nConfusion Matrix for Random Forest:\")\n",
    "print(conf_matrix_rf)\n",
    "\n",
    "# Confusion matrix for Gradient Boosting model\n",
    "conf_matrix_gbm = confusion_matrix(y_test, y_pred_gbm)\n",
    "print(\"\\nConfusion Matrix for Gradient Boosting:\")\n",
    "print(conf_matrix_gbm)\n",
    "\n",
    "# Confusion matrix for KNN model\n",
    "conf_matrix_knn = confusion_matrix(y_test, y_pred_knn)\n",
    "print(\"\\nConfusion Matrix for K-Nearest Neighbors:\")\n",
    "print(conf_matrix_knn)\n",
    "\n",
    "# Confusion matrix for Word2Vec + Logistic Regression model\n",
    "conf_matrix_w2v = confusion_matrix(y_test_w2v, y_pred_w2v)\n",
    "print(\"\\nConfusion Matrix for Word2Vec + Logistic Regression:\")\n",
    "print(conf_matrix_w2v)\n",
    "\n",
    "\n"
   ]
  },
  {
   "cell_type": "code",
   "execution_count": 47,
   "id": "2172bf2b",
   "metadata": {
    "scrolled": true
   },
   "outputs": [
    {
     "data": {
      "image/png": "[encoded data removed]",
      "text/plain": [
       "<Figure size 800x600 with 1 Axes>"
      ]
     },
     "metadata": {},
     "output_type": "display_data"
    },
    {
     "data": {
      "image/png": "[encoded data removed]",
      "text/plain": [
       "<Figure size 800x600 with 1 Axes>"
      ]
     },
     "metadata": {},
     "output_type": "display_data"
    },
    {
     "data": {
      "image/png": "[encoded data removed]",
      "text/plain": [
       "<Figure size 800x600 with 1 Axes>"
      ]
     },
     "metadata": {},
     "output_type": "display_data"
    },
    {
     "data": {
      "image/png": "[encoded data removed]",
      "text/plain": [
       "<Figure size 800x600 with 1 Axes>"
      ]
     },
     "metadata": {},
     "output_type": "display_data"
    },
    {
     "data": {
      "image/png": "[encoded data removed]",
      "text/plain": [
       "<Figure size 800x600 with 1 Axes>"
      ]
     },
     "metadata": {},
     "output_type": "display_data"
    },
    {
     "data": {
      "image/png": "[encoded data removed]",
      "text/plain": [
       "<Figure size 800x600 with 1 Axes>"
      ]
     },
     "metadata": {},
     "output_type": "display_data"
    },
    {
     "data": {
      "image/png": "[encoded data removed]",
      "text/plain": [
       "<Figure size 800x600 with 1 Axes>"
      ]
     },
     "metadata": {},
     "output_type": "display_data"
    }
   ],
   "source": [
    "import matplotlib.pyplot as plt\n",
    "import seaborn as sns\n",
    "\n",
    "# Plot confusion matrix function\n",
    "def plot_confusion_matrix(conf_matrix, model_name):\n",
    "    plt.figure(figsize=(8, 6))\n",
    "    sns.heatmap(conf_matrix, annot=True, fmt=\"d\", cmap=\"Blues\", cbar=False)\n",
    "    plt.xlabel('Predicted Label')\n",
    "    plt.ylabel('True Label')\n",
    "    plt.title(f'Confusion Matrix for {model_name}')\n",
    "    plt.show()\n",
    "\n",
    "# Plot confusion matrix for logistic regression model\n",
    "plot_confusion_matrix(conf_matrix_lr, \"Logistic Regression\")\n",
    "\n",
    "# Plot confusion matrix for Naive Bayes model\n",
    "plot_confusion_matrix(conf_matrix_nb, \"Naive Bayes\")\n",
    "\n",
    "# Plot confusion matrix for SVM model\n",
    "plot_confusion_matrix(conf_matrix_svm, \"SVM\")\n",
    "\n",
    "# Plot confusion matrix for Random Forest model\n",
    "plot_confusion_matrix(conf_matrix_rf, \"Random Forest\")\n",
    "\n",
    "# Plot confusion matrix for Gradient Boosting model\n",
    "plot_confusion_matrix(conf_matrix_gbm, \"Gradient Boosting\")\n",
    "\n",
    "# Plot confusion matrix for KNN model\n",
    "plot_confusion_matrix(conf_matrix_knn, \"KNN\")\n",
    "\n",
    "# Plot confusion matrix for Word2Vec + Logistic Regression model\n",
    "plot_confusion_matrix(conf_matrix_w2v, \"Word2Vec + Logistic Regression\")\n"
   ]
  },
  {
   "cell_type": "markdown",
   "id": "e46e3fba",
   "metadata": {},
   "source": [
    "# LSTM model using Doc2Vec Word embedding  "
   ]
  },
  {
   "cell_type": "code",
   "execution_count": 48,
   "id": "bf988c6c",
   "metadata": {},
   "outputs": [],
   "source": [
    "import pandas as pd\n",
    "import numpy as np\n",
    "from tqdm import tqdm\n",
    "from keras.preprocessing.text import Tokenizer\n",
    "tqdm.pandas(desc=\"progress-bar\")\n",
    "from gensim.models import Doc2Vec\n",
    "from sklearn import utils\n",
    "from sklearn.model_selection import train_test_split\n",
    "from keras.preprocessing.sequence import pad_sequences\n",
    "import gensim\n",
    "from sklearn.linear_model import LogisticRegression\n",
    "from gensim.models.doc2vec import TaggedDocument\n",
    "import re\n",
    "import seaborn as sns\n",
    "import matplotlib.pyplot as plt"
   ]
  },
  {
   "cell_type": "code",
   "execution_count": 51,
   "id": "860b48dd",
   "metadata": {},
   "outputs": [
    {
     "data": {
      "text/html": [
       "<div>\n",
       "<style scoped>\n",
       "    .dataframe tbody tr th:only-of-type {\n",
       "        vertical-align: middle;\n",
       "    }\n",
       "\n",
       "    .dataframe tbody tr th {\n",
       "        vertical-align: top;\n",
       "    }\n",
       "\n",
       "    .dataframe thead th {\n",
       "        text-align: right;\n",
       "    }\n",
       "</style>\n",
       "<table border=\"1\" class=\"dataframe\">\n",
       "  <thead>\n",
       "    <tr style=\"text-align: right;\">\n",
       "      <th></th>\n",
       "      <th>neutral</th>\n",
       "      <th>According to Gran , the company has no plans to move all production to Russia , although that is where the company is growing .</th>\n",
       "    </tr>\n",
       "  </thead>\n",
       "  <tbody>\n",
       "    <tr>\n",
       "      <th>0</th>\n",
       "      <td>neutral</td>\n",
       "      <td>Technopolis plans to develop in stages an area...</td>\n",
       "    </tr>\n",
       "    <tr>\n",
       "      <th>1</th>\n",
       "      <td>negative</td>\n",
       "      <td>The international electronic industry company ...</td>\n",
       "    </tr>\n",
       "    <tr>\n",
       "      <th>2</th>\n",
       "      <td>positive</td>\n",
       "      <td>With the new production plant the company woul...</td>\n",
       "    </tr>\n",
       "    <tr>\n",
       "      <th>3</th>\n",
       "      <td>positive</td>\n",
       "      <td>According to the company 's updated strategy f...</td>\n",
       "    </tr>\n",
       "    <tr>\n",
       "      <th>4</th>\n",
       "      <td>positive</td>\n",
       "      <td>FINANCING OF ASPOCOMP 'S GROWTH Aspocomp is ag...</td>\n",
       "    </tr>\n",
       "  </tbody>\n",
       "</table>\n",
       "</div>"
      ],
      "text/plain": [
       "    neutral  \\\n",
       "0   neutral   \n",
       "1  negative   \n",
       "2  positive   \n",
       "3  positive   \n",
       "4  positive   \n",
       "\n",
       "  According to Gran , the company has no plans to move all production to Russia , although that is where the company is growing .  \n",
       "0  Technopolis plans to develop in stages an area...                                                                               \n",
       "1  The international electronic industry company ...                                                                               \n",
       "2  With the new production plant the company woul...                                                                               \n",
       "3  According to the company 's updated strategy f...                                                                               \n",
       "4  FINANCING OF ASPOCOMP 'S GROWTH Aspocomp is ag...                                                                               "
      ]
     },
     "execution_count": 51,
     "metadata": {},
     "output_type": "execute_result"
    }
   ],
   "source": [
    "df = pd.read_csv('all-data.csv',delimiter=',',encoding='latin-1')\n",
    "df.head()"
   ]
  },
  {
   "cell_type": "code",
   "execution_count": 52,
   "id": "3ac798ec",
   "metadata": {},
   "outputs": [],
   "source": [
    "df = df.rename(columns={'neutral':'sentiment','According to Gran , the company has no plans to move all production to Russia , although that is where the company is growing .':'Message'})"
   ]
  },
  {
   "cell_type": "code",
   "execution_count": 53,
   "id": "a4565f34",
   "metadata": {},
   "outputs": [
    {
     "data": {
      "text/plain": [
       "111964"
      ]
     },
     "execution_count": 53,
     "metadata": {},
     "output_type": "execute_result"
    }
   ],
   "source": [
    "df.index = range(4845)\n",
    "df['Message'].apply(lambda x: len(x.split(' '))).sum()"
   ]
  },
  {
   "cell_type": "code",
   "execution_count": 54,
   "id": "6b0cc422",
   "metadata": {},
   "outputs": [
    {
     "data": {
      "image/png": "[encoded data removed]",
      "text/plain": [
       "<Figure size 1200x400 with 1 Axes>"
      ]
     },
     "metadata": {},
     "output_type": "display_data"
    }
   ],
   "source": [
    "cnt_pro = df['sentiment'].value_counts()\n",
    "plt.figure(figsize=(12,4))\n",
    "sns.barplot(x=cnt_pro.index, y=cnt_pro.values, alpha=0.8)\n",
    "plt.ylabel('Number of Occurrences', fontsize=12)\n",
    "plt.xlabel('sentiment', fontsize=12)\n",
    "plt.xticks(rotation=90)\n",
    "plt.show();"
   ]
  },
  {
   "cell_type": "code",
   "execution_count": 55,
   "id": "a9673b37",
   "metadata": {},
   "outputs": [
    {
     "name": "stdout",
     "output_type": "stream",
     "text": [
      "      sentiment                                            Message\n",
      "0             1  Technopolis plans to develop in stages an area...\n",
      "1             2  The international electronic industry company ...\n",
      "2             0  With the new production plant the company woul...\n",
      "3             0  According to the company 's updated strategy f...\n",
      "4             0  FINANCING OF ASPOCOMP 'S GROWTH Aspocomp is ag...\n",
      "...         ...                                                ...\n",
      "4840          2  LONDON MarketWatch -- Share prices ended lower...\n",
      "4841          1  Rinkuskiai 's beer sales fell by 6.5 per cent ...\n",
      "4842          2  Operating profit fell to EUR 35.4 mn from EUR ...\n",
      "4843          2  Net sales of the Paper segment decreased to EU...\n",
      "4844          2  Sales in Finland decreased by 10.5 % in Januar...\n",
      "\n",
      "[4845 rows x 2 columns]\n"
     ]
    }
   ],
   "source": [
    "#Convert sting to numeric\n",
    "sentiment  = {'positive': 0,'neutral': 1,'negative':2} \n",
    "\n",
    "df.sentiment = [sentiment[item] for item in df.sentiment] \n",
    "print(df)"
   ]
  },
  {
   "cell_type": "code",
   "execution_count": 56,
   "id": "9f71c1c2",
   "metadata": {},
   "outputs": [
    {
     "name": "stdout",
     "output_type": "stream",
     "text": [
      "Finnish Talentum reports its operating profit increased to EUR 20.5 mn in 2005 from EUR 9.3 mn in 2004 , and net sales totaled EUR 103.3 mn , up from EUR 96.4 mn .\n",
      "Message: 0\n"
     ]
    }
   ],
   "source": [
    "def print_message(index):\n",
    "    example = df[df.index == index][['Message', 'sentiment']].values[0]\n",
    "    if len(example) > 0:\n",
    "        print(example[0])\n",
    "        print('Message:', example[1])\n",
    "print_message(12)"
   ]
  },
  {
   "cell_type": "code",
   "execution_count": 57,
   "id": "0cf110f0",
   "metadata": {},
   "outputs": [
    {
     "name": "stderr",
     "output_type": "stream",
     "text": [
      "C:\\Users\\LENOVO\\AppData\\Local\\Temp\\ipykernel_22628\\2959445239.py:3: MarkupResemblesLocatorWarning: The input looks more like a filename than markup. You may want to open this file and pass the filehandle into Beautiful Soup.\n",
      "  text = BeautifulSoup(text, \"lxml\").text\n"
     ]
    }
   ],
   "source": [
    "from bs4 import BeautifulSoup\n",
    "def cleanText(text):\n",
    "    text = BeautifulSoup(text, \"lxml\").text\n",
    "    text = re.sub(r'\\|\\|\\|', r' ', text) \n",
    "    text = re.sub(r'http\\S+', r'<URL>', text)\n",
    "    text = text.lower()\n",
    "    text = text.replace('x', '')\n",
    "    return text\n",
    "df['Message'] = df['Message'].apply(cleanText)"
   ]
  },
  {
   "cell_type": "code",
   "execution_count": 58,
   "id": "edfb7f9a",
   "metadata": {},
   "outputs": [
    {
     "name": "stderr",
     "output_type": "stream",
     "text": [
      "C:\\Users\\LENOVO\\AppData\\Local\\Temp\\ipykernel_22628\\2959445239.py:3: MarkupResemblesLocatorWarning: The input looks more like a filename than markup. You may want to open this file and pass the filehandle into Beautiful Soup.\n",
      "  text = BeautifulSoup(text, \"lxml\").text\n"
     ]
    },
    {
     "name": "stdout",
     "output_type": "stream",
     "text": [
      "Found 4845 unique tokens.\n"
     ]
    }
   ],
   "source": [
    "df['Message'] = df['Message'].apply(cleanText)\n",
    "train, test = train_test_split(df, test_size=0.000001 , random_state=42)\n",
    "import nltk\n",
    "from nltk.corpus import stopwords\n",
    "def tokenize_text(text):\n",
    "    tokens = []\n",
    "    for sent in nltk.sent_tokenize(text):\n",
    "        for word in nltk.word_tokenize(sent):\n",
    "            #if len(word) < 0:\n",
    "            if len(word) <= 0:\n",
    "                continue\n",
    "            tokens.append(word.lower())\n",
    "    return tokens\n",
    "train_tagged = train.apply(\n",
    "    lambda r: TaggedDocument(words=tokenize_text(r['Message']), tags=[r.sentiment]), axis=1)\n",
    "test_tagged = test.apply(\n",
    "    lambda r: TaggedDocument(words=tokenize_text(r['Message']), tags=[r.sentiment]), axis=1)\n",
    "\n",
    "# The maximum number of words to be used. (most frequent)\n",
    "max_fatures = 500000\n",
    "\n",
    "# Max number of words in each complaint.\n",
    "MAX_SEQUENCE_LENGTH = 50\n",
    "\n",
    "#tokenizer = Tokenizer(num_words=max_fatures, split=' ')\n",
    "tokenizer = Tokenizer(num_words=max_fatures, split=' ', filters='!\"#$%&()*+,-./:;<=>?@[\\]^_`{|}~', lower=True)\n",
    "tokenizer.fit_on_texts(df['Message'].values)\n",
    "X = tokenizer.texts_to_sequences(df['Message'].values)\n",
    "X = pad_sequences(X)\n",
    "print('Found %s unique tokens.' % len(X))"
   ]
  },
  {
   "cell_type": "code",
   "execution_count": 59,
   "id": "392d8846",
   "metadata": {},
   "outputs": [
    {
     "name": "stdout",
     "output_type": "stream",
     "text": [
      "Shape of data tensor: (4845, 50)\n"
     ]
    }
   ],
   "source": [
    "X = tokenizer.texts_to_sequences(df['Message'].values)\n",
    "X = pad_sequences(X, maxlen=MAX_SEQUENCE_LENGTH)\n",
    "print('Shape of data tensor:', X.shape)"
   ]
  },
  {
   "cell_type": "code",
   "execution_count": 60,
   "id": "4f5d0ee0",
   "metadata": {},
   "outputs": [
    {
     "data": {
      "text/plain": [
       "array([TaggedDocument(words=['upm-kymmene', 'has', 'generated', 'four', 'consecutive', 'quarters', 'of', 'positive', 'free', 'cash', 'flow', '.'], tags=[0]),\n",
       "       TaggedDocument(words=['in', 'the', 'method', 'the', 'smelt', 'spouts', '2', 'are', 'separated', 'from', 'the', 'working', 'area', '6', 'by', 'a', 'shielding', 'wall', '8', ',', '10', 'arranged', 'movable', 'in', 'relation', 'to', 'the', 'smelt', 'spouts', '.'], tags=[1]),\n",
       "       TaggedDocument(words=['``', 'that', \"'s\", 'a', 'very', 'high', 'figure', 'on', 'the', 'european', 'scale', ',', '``', 'noop', 'said', ',', 'recalling', 'however', 'that', 'this', 'also', 'includes', 'beer', 'bought', 'by', 'finnish', 'tourists', '.'], tags=[1]),\n",
       "       ...,\n",
       "       TaggedDocument(words=['proha', 'plc', '(', 'euronet', ':7327', ')', 'announced', 'today', '(', '19', 'may', ')', 'that', 'its', 'fully-owned', 'subsidiary', ',', 'safran', 'software', 'solutions', 'as', ',', 'has', 'agreed', 'to', 'sell', 'its', '49', '%', 'share', 'of', 'safran', 'north', 'america', 'llc', 'to', 'a', 'sna', 'holding', 'as', ',', 'an', 'investment', 'group', 'based', 'in', 'norway', '.'], tags=[1]),\n",
       "       TaggedDocument(words=['the', 'building', 'will', 'house', 'product', 'development', 'and', 'test', 'laboratories', '.'], tags=[1]),\n",
       "       TaggedDocument(words=['(', 'adp', 'news', ')', '-', 'oct', '31', ',', '2008', '-', 'finnish', 'food', 'company', 'raisio', 'oyj', '(', 'om', ':', 'raivv', ')', 'said', 'today', 'that', 'its', 'net', 'profit', 'jumped', 'to', 'eur', '16.4', 'million', '(', 'usd', '20.9', 'm', ')', 'for', 'the', 'first', 'nine', 'months', 'of', '2008', 'from', 'eur', '1.1', 'million', 'for', 'the', 'same', 'period', 'of', '2'], tags=[0])],\n",
       "      dtype=object)"
      ]
     },
     "execution_count": 60,
     "metadata": {},
     "output_type": "execute_result"
    }
   ],
   "source": [
    "#train_tagged.values[2173]\n",
    "train_tagged.values"
   ]
  },
  {
   "cell_type": "code",
   "execution_count": 61,
   "id": "a5562250",
   "metadata": {},
   "outputs": [
    {
     "name": "stderr",
     "output_type": "stream",
     "text": [
      "100%|█████████████████████████████████████████████████████████████████████████| 4844/4844 [00:00<00:00, 1493692.73it/s]\n"
     ]
    }
   ],
   "source": [
    "d2v_model = Doc2Vec(dm=1, dm_mean=1, vector_size=20, window=8, min_count=1, workers=1, alpha=0.065, min_alpha=0.065)\n",
    "d2v_model.build_vocab([x for x in tqdm(train_tagged.values)])"
   ]
  },
  {
   "cell_type": "code",
   "execution_count": 62,
   "id": "94295b88",
   "metadata": {},
   "outputs": [
    {
     "name": "stderr",
     "output_type": "stream",
     "text": [
      "100%|█████████████████████████████████████████████████████████████████████████| 4844/4844 [00:00<00:00, 1484416.50it/s]\n",
      "100%|█████████████████████████████████████████████████████████████████████████| 4844/4844 [00:00<00:00, 1579385.00it/s]\n",
      "100%|█████████████████████████████████████████████████████████████████████████| 4844/4844 [00:00<00:00, 1414453.40it/s]\n",
      "100%|█████████████████████████████████████████████████████████████████████████| 4844/4844 [00:00<00:00, 9005854.87it/s]\n",
      "100%|██████████████████████████████████████████████████████████████████████████████████████| 4844/4844 [00:00<?, ?it/s]\n",
      "100%|█████████████████████████████████████████████████████████████████████████| 4844/4844 [00:00<00:00, 4788406.45it/s]\n",
      "100%|██████████████████████████████████████████████████████████████████████████| 4844/4844 [00:00<00:00, 944108.21it/s]\n",
      "100%|█████████████████████████████████████████████████████████████████████████| 4844/4844 [00:00<00:00, 2124342.18it/s]\n",
      "100%|█████████████████████████████████████████████████████████████████████████| 4844/4844 [00:00<00:00, 1128420.36it/s]\n",
      "100%|█████████████████████████████████████████████████████████████████████████| 4844/4844 [00:00<00:00, 1192044.62it/s]\n",
      "100%|█████████████████████████████████████████████████████████████████████████| 4844/4844 [00:00<00:00, 2768012.07it/s]\n",
      "100%|█████████████████████████████████████████████████████████████████████████| 4844/4844 [00:00<00:00, 1210582.65it/s]\n",
      "100%|██████████████████████████████████████████████████████████████████████████████████████| 4844/4844 [00:00<?, ?it/s]\n",
      "100%|█████████████████████████████████████████████████████████████████████████| 4844/4844 [00:00<00:00, 1211087.78it/s]\n",
      "100%|█████████████████████████████████████████████████████████████████████████| 4844/4844 [00:00<00:00, 3093834.11it/s]\n",
      "100%|█████████████████████████████████████████████████████████████████████████| 4844/4844 [00:00<00:00, 3363219.43it/s]\n",
      "100%|█████████████████████████████████████████████████████████████████████████| 4844/4844 [00:00<00:00, 1166515.97it/s]\n",
      "100%|█████████████████████████████████████████████████████████████████████████| 4844/4844 [00:00<00:00, 1737404.53it/s]\n",
      "100%|█████████████████████████████████████████████████████████████████████████| 4844/4844 [00:00<00:00, 1489859.10it/s]\n",
      "100%|█████████████████████████████████████████████████████████████████████████| 4844/4844 [00:00<00:00, 2372397.08it/s]\n",
      "100%|█████████████████████████████████████████████████████████████████████████| 4844/4844 [00:00<00:00, 3147514.88it/s]\n",
      "100%|██████████████████████████████████████████████████████████████████████████████████████| 4844/4844 [00:00<?, ?it/s]\n",
      "100%|██████████████████████████████████████████████████████████████████████████████████████| 4844/4844 [00:00<?, ?it/s]\n",
      "100%|██████████████████████████████████████████████████████████████████████████████████████| 4844/4844 [00:00<?, ?it/s]\n",
      "100%|█████████████████████████████████████████████████████████████████████████| 4844/4844 [00:00<00:00, 1804530.47it/s]\n",
      "100%|█████████████████████████████████████████████████████████████████████████| 4844/4844 [00:00<00:00, 2847142.46it/s]\n",
      "100%|█████████████████████████████████████████████████████████████████████████| 4844/4844 [00:00<00:00, 1198372.57it/s]\n",
      "100%|█████████████████████████████████████████████████████████████████████████| 4844/4844 [00:00<00:00, 8958204.84it/s]\n",
      "100%|█████████████████████████████████████████████████████████████████████████| 4844/4844 [00:00<00:00, 1084625.70it/s]\n",
      "100%|█████████████████████████████████████████████████████████████████████████| 4844/4844 [00:00<00:00, 1684258.36it/s]\n"
     ]
    },
    {
     "name": "stdout",
     "output_type": "stream",
     "text": [
      "CPU times: total: 6.67 s\n",
      "Wall time: 12.9 s\n"
     ]
    }
   ],
   "source": [
    "%%time\n",
    "for epoch in range(30):\n",
    "    d2v_model.train(utils.shuffle([x for x in tqdm(train_tagged.values)]), total_examples=len(train_tagged.values), epochs=1)\n",
    "    d2v_model.alpha -= 0.002\n",
    "    d2v_model.min_alpha = d2v_model.alpha"
   ]
  },
  {
   "cell_type": "code",
   "execution_count": 63,
   "id": "eddc24ee",
   "metadata": {},
   "outputs": [
    {
     "name": "stdout",
     "output_type": "stream",
     "text": [
      "Doc2Vec<dm/m,d20,n5,w8,s0.001>\n"
     ]
    }
   ],
   "source": [
    "print(d2v_model)\n"
   ]
  },
  {
   "cell_type": "code",
   "execution_count": 64,
   "id": "f4b42286",
   "metadata": {},
   "outputs": [
    {
     "data": {
      "text/plain": [
       "11682"
      ]
     },
     "execution_count": 64,
     "metadata": {},
     "output_type": "execute_result"
    }
   ],
   "source": [
    "len(d2v_model.wv.key_to_index)\n",
    "len(d2v_model.wv.index_to_key)"
   ]
  },
  {
   "cell_type": "code",
   "execution_count": 66,
   "id": "c5abbac7",
   "metadata": {},
   "outputs": [
    {
     "name": "stderr",
     "output_type": "stream",
     "text": [
      "C:\\Users\\LENOVO\\AppData\\Local\\Temp\\ipykernel_22628\\396647464.py:4: DeprecationWarning: Call to deprecated `docvecs` (The `docvecs` property has been renamed `dv`.).\n",
      "  for i, vec in enumerate(d2v_model.docvecs.docvecs[doc_id]):\n"
     ]
    },
    {
     "ename": "AttributeError",
     "evalue": "'KeyedVectors' object has no attribute 'docvecs'",
     "output_type": "error",
     "traceback": [
      "\u001b[1;31m---------------------------------------------------------------------------\u001b[0m",
      "\u001b[1;31mAttributeError\u001b[0m                            Traceback (most recent call last)",
      "Cell \u001b[1;32mIn[66], line 4\u001b[0m\n\u001b[0;32m      1\u001b[0m \u001b[38;5;66;03m# save the vectors in a new matrix\u001b[39;00m\n\u001b[0;32m      2\u001b[0m embedding_matrix \u001b[38;5;241m=\u001b[39m np\u001b[38;5;241m.\u001b[39mzeros((\u001b[38;5;28mlen\u001b[39m(d2v_model\u001b[38;5;241m.\u001b[39mwv\u001b[38;5;241m.\u001b[39mkey_to_index)\u001b[38;5;241m+\u001b[39m \u001b[38;5;241m1\u001b[39m, \u001b[38;5;241m20\u001b[39m))\n\u001b[1;32m----> 4\u001b[0m \u001b[38;5;28;01mfor\u001b[39;00m i, vec \u001b[38;5;129;01min\u001b[39;00m \u001b[38;5;28menumerate\u001b[39m(d2v_model\u001b[38;5;241m.\u001b[39mdocvecs\u001b[38;5;241m.\u001b[39mdocvecs[doc_id]):\n\u001b[0;32m      5\u001b[0m     \u001b[38;5;28;01mwhile\u001b[39;00m i \u001b[38;5;129;01min\u001b[39;00m vec \u001b[38;5;241m<\u001b[39m\u001b[38;5;241m=\u001b[39m \u001b[38;5;241m1000\u001b[39m:\n\u001b[0;32m      6\u001b[0m         \u001b[38;5;28mprint\u001b[39m(i)\n",
      "\u001b[1;31mAttributeError\u001b[0m: 'KeyedVectors' object has no attribute 'docvecs'"
     ]
    }
   ],
   "source": [
    "# save the vectors in a new matrix\n",
    "embedding_matrix = np.zeros((len(d2v_model.wv.key_to_index)+ 1, 20))\n",
    "\n",
    "for i, vec in enumerate(d2v_model.docvecs.docvecs[doc_id]):\n",
    "    while i in vec <= 1000:\n",
    "        print(i)\n",
    "        print(model.docvecs)\n",
    "        embedding_matrix[i]=vec\n",
    "        print(vec)\n",
    "        print(vec[i])"
   ]
  },
  {
   "cell_type": "code",
   "execution_count": 68,
   "id": "d3a5b4d0",
   "metadata": {},
   "outputs": [
    {
     "data": {
      "text/plain": [
       "[('loss', 0.8792965412139893),\n",
       " ('income', 0.8081946969032288),\n",
       " ('aspokem', 0.7729852795600891),\n",
       " ('profits', 0.7679020166397095),\n",
       " ('bill', 0.7665855288505554),\n",
       " ('sales', 0.7486307621002197),\n",
       " ('walby', 0.7383885383605957),\n",
       " ('turnover', 0.7376371026039124),\n",
       " ('koduetra', 0.7341256141662598),\n",
       " ('wwd', 0.721751868724823)]"
      ]
     },
     "execution_count": 68,
     "metadata": {},
     "output_type": "execute_result"
    }
   ],
   "source": [
    "d2v_model.wv.most_similar(positive=['profit'], topn=10)\n"
   ]
  },
  {
   "cell_type": "code",
   "execution_count": 69,
   "id": "24522c9e",
   "metadata": {},
   "outputs": [
    {
     "data": {
      "text/plain": [
       "[('wrt1v', 0.7808139324188232),\n",
       " ('syndicated', 0.769237220287323),\n",
       " ('annual', 0.7384397387504578),\n",
       " ('eur400m', 0.7249521017074585),\n",
       " ('fleet', 0.7185519337654114),\n",
       " ('sponda', 0.7048379778862),\n",
       " ('bear', 0.697820246219635),\n",
       " ('worth', 0.6975498199462891),\n",
       " ('meats', 0.6888282895088196),\n",
       " ('organization', 0.6863129734992981)]"
      ]
     },
     "execution_count": 69,
     "metadata": {},
     "output_type": "execute_result"
    }
   ],
   "source": [
    "d2v_model.wv.most_similar(positive=['investment'], topn=10)\n"
   ]
  },
  {
   "cell_type": "code",
   "execution_count": 70,
   "id": "518f798d",
   "metadata": {},
   "outputs": [
    {
     "data": {
      "text/plain": [
       "[('mold', 0.9639113545417786),\n",
       " ('3.81', 0.8989024758338928),\n",
       " ('743', 0.8895621299743652),\n",
       " ('2.16', 0.8798056244850159),\n",
       " ('peterson', 0.8701069951057434),\n",
       " ('appliance', 0.8698903322219849),\n",
       " ('165', 0.8420581817626953),\n",
       " ('enp', 0.8406299948692322),\n",
       " ('frank', 0.8405425548553467),\n",
       " ('0.32', 0.8368033170700073)]"
      ]
     },
     "execution_count": 70,
     "metadata": {},
     "output_type": "execute_result"
    }
   ],
   "source": [
    "d2v_model.wv.most_similar(positive=['broke'], topn=10)"
   ]
  },
  {
   "cell_type": "code",
   "execution_count": 71,
   "id": "e7bf6495",
   "metadata": {},
   "outputs": [],
   "source": [
    "from sklearn.manifold import TSNE\n",
    "import matplotlib.pyplot as plt\n",
    "%matplotlib inline\n",
    "\n",
    "def tsne_plot(model):\n",
    "    \"Creates and TSNE model and plots it\"\n",
    "    labels = []\n",
    "    tokens = []\n",
    "\n",
    "    for word in d2v_model.wv.vocab:\n",
    "        tokens.append(model[word])\n",
    "        labels.append(word)\n",
    "    \n",
    "    tsne_model = TSNE(perplexity=40, n_components=2, init='pca', n_iter=250, random_state=23)\n",
    "    new_values = tsne_model.fit_transform(tokens)\n",
    "\n",
    "    x = []\n",
    "    y = []\n",
    "    for value in new_values:\n",
    "        x.append(value[0])\n",
    "        y.append(value[1])\n",
    "        \n",
    "    plt.figure(figsize=(16, 16)) \n",
    "    for i in range(len(x)):\n",
    "        plt.scatter(x[i],y[i])\n",
    "        plt.annotate(labels[i],\n",
    "                     xy=(x[i], y[i]),\n",
    "                     xytext=(5, 2),\n",
    "                     textcoords='offset points',\n",
    "                     ha='right',\n",
    "                     va='bottom')\n",
    "    plt.show()"
   ]
  },
  {
   "cell_type": "code",
   "execution_count": 72,
   "id": "809e7057",
   "metadata": {
    "scrolled": true
   },
   "outputs": [
    {
     "ename": "AttributeError",
     "evalue": "The vocab attribute was removed from KeyedVector in Gensim 4.0.0.\nUse KeyedVector's .key_to_index dict, .index_to_key list, and methods .get_vecattr(key, attr) and .set_vecattr(key, attr, new_val) instead.\nSee https://github.com/RaRe-Technologies/gensim/wiki/Migrating-from-Gensim-3.x-to-4",
     "output_type": "error",
     "traceback": [
      "\u001b[1;31m---------------------------------------------------------------------------\u001b[0m",
      "\u001b[1;31mAttributeError\u001b[0m                            Traceback (most recent call last)",
      "Cell \u001b[1;32mIn[72], line 1\u001b[0m\n\u001b[1;32m----> 1\u001b[0m tsne_plot(d2v_model\u001b[38;5;241m.\u001b[39mwv\u001b[38;5;241m.\u001b[39mkey_to_index)\n",
      "Cell \u001b[1;32mIn[71], line 10\u001b[0m, in \u001b[0;36mtsne_plot\u001b[1;34m(model)\u001b[0m\n\u001b[0;32m      7\u001b[0m labels \u001b[38;5;241m=\u001b[39m []\n\u001b[0;32m      8\u001b[0m tokens \u001b[38;5;241m=\u001b[39m []\n\u001b[1;32m---> 10\u001b[0m \u001b[38;5;28;01mfor\u001b[39;00m word \u001b[38;5;129;01min\u001b[39;00m d2v_model\u001b[38;5;241m.\u001b[39mwv\u001b[38;5;241m.\u001b[39mvocab:\n\u001b[0;32m     11\u001b[0m     tokens\u001b[38;5;241m.\u001b[39mappend(model[word])\n\u001b[0;32m     12\u001b[0m     labels\u001b[38;5;241m.\u001b[39mappend(word)\n",
      "File \u001b[1;32m~\\anaconda3\\Lib\\site-packages\\gensim\\models\\keyedvectors.py:734\u001b[0m, in \u001b[0;36mKeyedVectors.vocab\u001b[1;34m(self)\u001b[0m\n\u001b[0;32m    732\u001b[0m \u001b[38;5;129m@property\u001b[39m\n\u001b[0;32m    733\u001b[0m \u001b[38;5;28;01mdef\u001b[39;00m \u001b[38;5;21mvocab\u001b[39m(\u001b[38;5;28mself\u001b[39m):\n\u001b[1;32m--> 734\u001b[0m     \u001b[38;5;28;01mraise\u001b[39;00m \u001b[38;5;167;01mAttributeError\u001b[39;00m(\n\u001b[0;32m    735\u001b[0m         \u001b[38;5;124m\"\u001b[39m\u001b[38;5;124mThe vocab attribute was removed from KeyedVector in Gensim 4.0.0.\u001b[39m\u001b[38;5;130;01m\\n\u001b[39;00m\u001b[38;5;124m\"\u001b[39m\n\u001b[0;32m    736\u001b[0m         \u001b[38;5;124m\"\u001b[39m\u001b[38;5;124mUse KeyedVector\u001b[39m\u001b[38;5;124m'\u001b[39m\u001b[38;5;124ms .key_to_index dict, .index_to_key list, and methods \u001b[39m\u001b[38;5;124m\"\u001b[39m\n\u001b[0;32m    737\u001b[0m         \u001b[38;5;124m\"\u001b[39m\u001b[38;5;124m.get_vecattr(key, attr) and .set_vecattr(key, attr, new_val) instead.\u001b[39m\u001b[38;5;130;01m\\n\u001b[39;00m\u001b[38;5;124m\"\u001b[39m\n\u001b[0;32m    738\u001b[0m         \u001b[38;5;124m\"\u001b[39m\u001b[38;5;124mSee https://github.com/RaRe-Technologies/gensim/wiki/Migrating-from-Gensim-3.x-to-4\u001b[39m\u001b[38;5;124m\"\u001b[39m\n\u001b[0;32m    739\u001b[0m     )\n",
      "\u001b[1;31mAttributeError\u001b[0m: The vocab attribute was removed from KeyedVector in Gensim 4.0.0.\nUse KeyedVector's .key_to_index dict, .index_to_key list, and methods .get_vecattr(key, attr) and .set_vecattr(key, attr, new_val) instead.\nSee https://github.com/RaRe-Technologies/gensim/wiki/Migrating-from-Gensim-3.x-to-4"
     ]
    }
   ],
   "source": [
    "tsne_plot(d2v_model.wv.key_to_index)\n",
    "#d2v_model"
   ]
  },
  {
   "cell_type": "code",
   "execution_count": 73,
   "id": "dd7818db",
   "metadata": {
    "scrolled": true
   },
   "outputs": [
    {
     "name": "stdout",
     "output_type": "stream",
     "text": [
      "Requirement already satisfied: pydot in c:\\users\\lenovo\\anaconda3\\lib\\site-packages (2.0.0)\n",
      "Requirement already satisfied: pyparsing>=3 in c:\\users\\lenovo\\anaconda3\\lib\\site-packages (from pydot) (3.0.9)\n",
      "Note: you may need to restart the kernel to use updated packages.\n"
     ]
    }
   ],
   "source": [
    "pip install pydot"
   ]
  },
  {
   "cell_type": "markdown",
   "id": "c9cbc202",
   "metadata": {},
   "source": [
    "# LSTM model building "
   ]
  },
  {
   "cell_type": "code",
   "execution_count": 74,
   "id": "865f5ef7",
   "metadata": {},
   "outputs": [
    {
     "name": "stdout",
     "output_type": "stream",
     "text": [
      "Model: \"sequential_3\"\n",
      "_________________________________________________________________\n",
      " Layer (type)                Output Shape              Param #   \n",
      "=================================================================\n",
      " embedding (Embedding)       (None, 50, 20)            233660    \n",
      "                                                                 \n",
      " lstm (LSTM)                 (None, 50)                14200     \n",
      "                                                                 \n",
      " dense (Dense)               (None, 3)                 153       \n",
      "                                                                 \n",
      "=================================================================\n",
      "Total params: 248013 (968.80 KB)\n",
      "Trainable params: 248013 (968.80 KB)\n",
      "Non-trainable params: 0 (0.00 Byte)\n",
      "_________________________________________________________________\n",
      "WARNING:tensorflow:From C:\\Users\\LENOVO\\anaconda3\\Lib\\site-packages\\keras\\src\\optimizers\\__init__.py:309: The name tf.train.Optimizer is deprecated. Please use tf.compat.v1.train.Optimizer instead.\n",
      "\n"
     ]
    }
   ],
   "source": [
    "from keras.models import Sequential\n",
    "from keras.layers import LSTM, Dense, Embedding\n",
    "\n",
    "\n",
    "# init layer\n",
    "model = Sequential()\n",
    "\n",
    "# emmbed word vectors\n",
    "model.add(Embedding(len(d2v_model.wv.index_to_key)+1,20,input_length=X.shape[1],weights=[embedding_matrix],trainable=True))\n",
    "\n",
    "# learn the correlations\n",
    "def split_input(sequence):\n",
    "     return sequence[:-1], tf.reshape(sequence[1:], (-1,1))\n",
    "model.add(LSTM(50,return_sequences=False))\n",
    "model.add(Dense(3,activation=\"softmax\"))\n",
    "\n",
    "# output model skeleton\n",
    "model.summary()\n",
    "model.compile(optimizer=\"adam\",loss=\"binary_crossentropy\",metrics=['acc'])"
   ]
  },
  {
   "cell_type": "code",
   "execution_count": 75,
   "id": "abb6db80",
   "metadata": {},
   "outputs": [
    {
     "name": "stdout",
     "output_type": "stream",
     "text": [
      "(4118, 50) (4118, 3)\n",
      "(727, 50) (727, 3)\n"
     ]
    }
   ],
   "source": [
    "Y = pd.get_dummies(df['sentiment']).values\n",
    "X_train, X_test, Y_train, Y_test = train_test_split(X,Y, test_size = 0.15, random_state = 42)\n",
    "print(X_train.shape,Y_train.shape)\n",
    "print(X_test.shape,Y_test.shape)"
   ]
  },
  {
   "cell_type": "code",
   "execution_count": 77,
   "id": "dacce4bf",
   "metadata": {},
   "outputs": [
    {
     "name": "stdout",
     "output_type": "stream",
     "text": [
      "Epoch 1/30\n",
      "129/129 - 4s - loss: 0.0177 - acc: 0.9932 - 4s/epoch - 29ms/step\n",
      "Epoch 2/30\n",
      "129/129 - 3s - loss: 0.0149 - acc: 0.9944 - 3s/epoch - 27ms/step\n",
      "Epoch 3/30\n",
      "129/129 - 3s - loss: 0.0176 - acc: 0.9915 - 3s/epoch - 26ms/step\n",
      "Epoch 4/30\n",
      "129/129 - 3s - loss: 0.0109 - acc: 0.9964 - 3s/epoch - 26ms/step\n",
      "Epoch 5/30\n",
      "129/129 - 3s - loss: 0.0090 - acc: 0.9964 - 3s/epoch - 24ms/step\n",
      "Epoch 6/30\n",
      "129/129 - 3s - loss: 0.0075 - acc: 0.9973 - 3s/epoch - 20ms/step\n",
      "Epoch 7/30\n",
      "129/129 - 3s - loss: 0.0136 - acc: 0.9947 - 3s/epoch - 20ms/step\n",
      "Epoch 8/30\n",
      "129/129 - 3s - loss: 0.0127 - acc: 0.9942 - 3s/epoch - 21ms/step\n",
      "Epoch 9/30\n",
      "129/129 - 3s - loss: 0.0106 - acc: 0.9961 - 3s/epoch - 21ms/step\n",
      "Epoch 10/30\n",
      "129/129 - 3s - loss: 0.0086 - acc: 0.9964 - 3s/epoch - 21ms/step\n",
      "Epoch 11/30\n",
      "129/129 - 3s - loss: 0.0063 - acc: 0.9966 - 3s/epoch - 21ms/step\n",
      "Epoch 12/30\n",
      "129/129 - 3s - loss: 0.0057 - acc: 0.9978 - 3s/epoch - 21ms/step\n",
      "Epoch 13/30\n",
      "129/129 - 3s - loss: 0.0053 - acc: 0.9976 - 3s/epoch - 21ms/step\n",
      "Epoch 14/30\n",
      "129/129 - 3s - loss: 0.0055 - acc: 0.9971 - 3s/epoch - 21ms/step\n",
      "Epoch 15/30\n",
      "129/129 - 3s - loss: 0.0059 - acc: 0.9966 - 3s/epoch - 21ms/step\n",
      "Epoch 16/30\n",
      "129/129 - 3s - loss: 0.0119 - acc: 0.9954 - 3s/epoch - 21ms/step\n",
      "Epoch 17/30\n",
      "129/129 - 3s - loss: 0.0127 - acc: 0.9937 - 3s/epoch - 22ms/step\n",
      "Epoch 18/30\n",
      "129/129 - 3s - loss: 0.0144 - acc: 0.9934 - 3s/epoch - 21ms/step\n",
      "Epoch 19/30\n",
      "129/129 - 3s - loss: 0.0189 - acc: 0.9920 - 3s/epoch - 22ms/step\n",
      "Epoch 20/30\n",
      "129/129 - 3s - loss: 0.0072 - acc: 0.9964 - 3s/epoch - 21ms/step\n",
      "Epoch 21/30\n",
      "129/129 - 3s - loss: 0.0049 - acc: 0.9976 - 3s/epoch - 21ms/step\n",
      "Epoch 22/30\n",
      "129/129 - 3s - loss: 0.0043 - acc: 0.9976 - 3s/epoch - 22ms/step\n",
      "Epoch 23/30\n",
      "129/129 - 3s - loss: 0.0034 - acc: 0.9978 - 3s/epoch - 21ms/step\n",
      "Epoch 24/30\n",
      "129/129 - 3s - loss: 0.0026 - acc: 0.9983 - 3s/epoch - 21ms/step\n",
      "Epoch 25/30\n",
      "129/129 - 3s - loss: 0.0029 - acc: 0.9985 - 3s/epoch - 21ms/step\n",
      "Epoch 26/30\n",
      "129/129 - 3s - loss: 0.0051 - acc: 0.9966 - 3s/epoch - 20ms/step\n",
      "Epoch 27/30\n",
      "129/129 - 3s - loss: 0.0032 - acc: 0.9983 - 3s/epoch - 21ms/step\n",
      "Epoch 28/30\n",
      "129/129 - 3s - loss: 0.0023 - acc: 0.9990 - 3s/epoch - 21ms/step\n",
      "Epoch 29/30\n",
      "129/129 - 3s - loss: 0.0024 - acc: 0.9993 - 3s/epoch - 21ms/step\n",
      "Epoch 30/30\n",
      "129/129 - 3s - loss: 0.0019 - acc: 0.9993 - 3s/epoch - 22ms/step\n"
     ]
    }
   ],
   "source": [
    "batch_size = 32\n",
    "history=model.fit(X_train, Y_train, epochs=30, batch_size=batch_size, verbose = 2)"
   ]
  },
  {
   "cell_type": "code",
   "execution_count": 78,
   "id": "44633fbd",
   "metadata": {},
   "outputs": [
    {
     "data": {
      "image/png": "[encoded data removed]",
      "text/plain": [
       "<Figure size 640x480 with 1 Axes>"
      ]
     },
     "metadata": {},
     "output_type": "display_data"
    },
    {
     "data": {
      "image/png": "[encoded data removed]",
      "text/plain": [
       "<Figure size 640x480 with 1 Axes>"
      ]
     },
     "metadata": {},
     "output_type": "display_data"
    },
    {
     "data": {
      "text/plain": [
       "<Figure size 640x480 with 0 Axes>"
      ]
     },
     "metadata": {},
     "output_type": "display_data"
    }
   ],
   "source": [
    "plt.plot(history.history['acc'])\n",
    "plt.title('model accuracy')\n",
    "plt.ylabel('acc')\n",
    "plt.xlabel('epochs')\n",
    "plt.legend(['train', 'test'], loc='upper left')\n",
    "plt.show()\n",
    "plt.savefig('model_accuracy.png')\n",
    "\n",
    "# summarize history for loss\n",
    "plt.plot(history.history['loss'])\n",
    "#plt.plot(history.history['val_loss'])\n",
    "plt.title('model loss')\n",
    "plt.ylabel('loss')\n",
    "plt.xlabel('epochs')\n",
    "plt.legend(['train', 'test'], loc='upper left')\n",
    "plt.show()\n",
    "plt.savefig('model_loss.png')"
   ]
  },
  {
   "cell_type": "code",
   "execution_count": 79,
   "id": "de9732fb",
   "metadata": {},
   "outputs": [
    {
     "name": "stdout",
     "output_type": "stream",
     "text": [
      "129/129 - 2s - loss: 0.0017 - acc: 0.9990 - 2s/epoch - 18ms/step\n",
      "23/23 - 0s - loss: 1.3350 - acc: 0.7043 - 296ms/epoch - 13ms/step\n",
      "Train: 0.999, Test: 0.7043\n"
     ]
    }
   ],
   "source": [
    "# evaluate the model\n",
    "_, train_acc = model.evaluate(X_train, Y_train, verbose=2)\n",
    "_, test_acc = model.evaluate(X_test, Y_test, verbose=2)\n",
    "print('Train: %.3f, Test: %.4f' % (train_acc, test_acc))"
   ]
  },
  {
   "cell_type": "code",
   "execution_count": 80,
   "id": "684b7255",
   "metadata": {},
   "outputs": [
    {
     "name": "stdout",
     "output_type": "stream",
     "text": [
      "[[1.85368909e-03 9.98115778e-01 3.05304129e-05]\n",
      " [9.99999881e-01 1.11953270e-07 5.27673087e-08]\n",
      " [1.02590555e-07 9.99999881e-01 1.22642918e-08]\n",
      " ...\n",
      " [3.62188484e-06 3.33201297e-06 9.99993086e-01]\n",
      " [4.61429909e-06 9.99994993e-01 4.12303962e-07]\n",
      " [1.00000000e+00 4.08128287e-09 2.91533753e-09]]\n",
      "[1 0 1 0 1 1 1 1 1 1 1 1 0 2 1 1 1 1 0 1 0 1 0 0 1 0 1 1 1 2 1 1 1 2 1 0 2\n",
      " 0 1 1 0 1 0 1 0 1 1 1 0 1 2 1 0 2 1 0 1 1 0 1 0 0 0 0 1 1 1 1 1 0 1 0 0 1\n",
      " 0 1 1 1 1 0 1 2 0 0 0 0 1 0 1 0 0 1 1 2 1 1 0 1 0 1 2 1 1 2 0 0 1 1 2 1 1\n",
      " 1 2 1 1 0 1 0 2 0 0 0 0 1 1 1 0 1 0 1 1 1 2 1 0 1 0 1 1 0 1 1 1 1 1 1 2 1\n",
      " 0 1 1 0 1 1 1 0 0 1 2 2 0 1 1 0 0 0 1 2 1 0 1 0 0 1 0 2 0 0 1 0 1 0 0 1 1\n",
      " 2 1 0 1 1 1 0 0 1 0 0 0 1 1 0 1 1 1 1 1 0 1 1 0 1 0 1 1 1 1 1 0 2 0 0 1 0\n",
      " 1 1 1 1 1 0 0 1 1 0 1 1 2 2 1 1 1 1 1 1 1 0 0 1 1 1 1 0 1 1 0 0 2 0 1 1 1\n",
      " 1 1 0 1 0 2 2 2 1 1 1 1 1 2 0 1 1 1 0 0 0 1 0 1 1 1 1 1 1 0 1 0 2 0 1 2 1\n",
      " 1 2 0 1 0 1 1 1 1 0 1 2 1 0 1 2 0 2 1 1 1 1 1 0 1 1 0 1 0 1 1 0 1 1 1 1 1\n",
      " 1 0 1 1 0 0 1 0 0 1 0 1 2 1 0 1 1 0 1 0 1 1 1 0 1 2 1 1 1 2 1 0 0 0 2 1 0\n",
      " 0 0 1 1 1 1 1 1 0 2 0 0 2 1 0 0 0 1 0 1 0 1 1 0 1 0 1 1 1 1 0 0 1 1 2 2 0\n",
      " 0 1 1 0 1 1 0 1 0 0 1 1 0 1 0 0 2 2 1 1 1 0 1 0 0 1 1 1 1 0 0 2 1 1 0 1 1\n",
      " 0 1 1 2 0 2 1 1 1 2 1 0 2 1 1 0 1 0 1 1 0 2 1 2 1 1 1 1 1 1 1 1 1 0 1 0 1\n",
      " 0 1 0 0 1 1 1 0 0 1 1 1 1 1 0 1 0 1 2 1 2 1 0 0 1 1 1 1 1 2 0 0 1 1 0 1 1\n",
      " 2 0 0 1 0 1 1 1 1 2 1 1 2 1 0 0 1 1 1 1 1 1 1 1 1 0 1 1 1 0 1 1 0 1 1 1 1\n",
      " 2 2 2 1 2 1 0 2 0 1 0 1 0 0 1 1 1 1 1 0 1 1 1 2 1 1 1 0 1 0 0 1 1 1 1 1 1\n",
      " 0 0 0 2 1 1 2 0 0 1 0 1 2 0 2 1 2 1 0 1 1 0 1 1 0 2 1 0 0 2 1 1 1 1 0 1 0\n",
      " 1 0 0 1 1 0 1 1 0 1 1 2 1 1 1 1 1 0 1 1 2 0 1 0 0 1 0 0 0 1 1 1 0 1 0 1 2\n",
      " 2 1 1 2 1 1 1 1 0 1 1 1 0 2 1 1 1 1 1 2 1 0 0 0 1 0 1 0 1 2 1 0 1 1 1 0 1\n",
      " 2 1 0 1 0 1 0 1 2 1 1 1 1 1 0 0 0 1 1 1 1 2 1 0]\n"
     ]
    }
   ],
   "source": [
    "# predict probabilities for test set\n",
    "yhat_probs = model.predict(X_test, verbose=0)\n",
    "print(yhat_probs)\n",
    "# predict crisp classes for test set\n",
    "yhat_classes = np.argmax(yhat_probs, axis=1)\n",
    "print(yhat_classes)"
   ]
  },
  {
   "cell_type": "code",
   "execution_count": 81,
   "id": "eab8b27f",
   "metadata": {},
   "outputs": [
    {
     "data": {
      "text/plain": [
       "array([1, 0, 1, 1, 1, 1, 1, 1, 1, 1, 1, 0, 1, 2, 1, 0, 1, 0, 0, 2, 2, 1,\n",
       "       0, 0, 1, 0, 1, 0, 0, 2, 1, 1, 0, 2, 1, 0, 2, 0, 1, 1, 0, 1, 2, 1,\n",
       "       0, 1, 1, 1, 0, 0, 2, 1, 0, 2, 1, 0, 1, 1, 1, 1, 0, 0, 0, 1, 2, 1,\n",
       "       0, 1, 1, 1, 1, 0, 0, 0, 0, 1, 0, 1, 1, 0, 1, 2, 0, 1, 0, 0, 0, 0,\n",
       "       0, 0, 0, 1, 2, 2, 1, 0, 1, 1, 0, 1, 2, 1, 1, 2, 1, 1, 1, 1, 1, 1,\n",
       "       1, 0, 2, 1, 1, 0, 0, 0, 0, 0, 0, 1, 1, 1, 1, 0, 0, 1, 0, 1, 2, 0,\n",
       "       1, 1, 0, 1, 0, 2, 1, 1, 1, 1, 1, 0, 1, 1, 1, 1, 0, 1, 1, 1, 1, 1,\n",
       "       1, 1, 1, 1, 2, 2, 0, 0, 1, 0, 1, 0, 1, 2, 1, 1, 1, 0, 1, 1, 0, 1,\n",
       "       1, 1, 1, 1, 0, 0, 1, 0, 1, 2, 1, 2, 1, 2, 1, 1, 0, 0, 1, 0, 2, 1,\n",
       "       2, 0, 1, 1, 0, 2, 1, 0, 1, 0, 0, 1, 1, 1, 1, 1, 1, 1, 1, 2, 0, 1,\n",
       "       0, 1, 1, 1, 2, 1, 1, 0, 1, 1, 1, 0, 0, 1, 2, 0, 1, 0, 1, 1, 1, 1,\n",
       "       1, 2, 0, 0, 0, 1, 1, 1, 1, 1, 0, 1, 1, 1, 1, 1, 1, 1, 1, 0, 1, 0,\n",
       "       2, 1, 2, 1, 1, 0, 1, 1, 2, 0, 1, 1, 1, 1, 1, 0, 1, 0, 1, 1, 0, 1,\n",
       "       1, 1, 2, 1, 0, 1, 0, 2, 2, 1, 1, 1, 0, 1, 0, 1, 1, 2, 1, 2, 1, 0,\n",
       "       1, 0, 1, 2, 1, 1, 0, 1, 1, 1, 1, 0, 1, 1, 0, 1, 0, 1, 1, 0, 1, 1,\n",
       "       1, 1, 0, 0, 0, 0, 0, 0, 1, 1, 1, 1, 0, 1, 1, 1, 2, 0, 2, 1, 0, 1,\n",
       "       1, 1, 1, 1, 0, 1, 2, 0, 1, 1, 1, 1, 0, 0, 1, 2, 1, 0, 0, 0, 1, 1,\n",
       "       1, 0, 1, 0, 2, 0, 0, 1, 2, 1, 0, 1, 0, 1, 1, 1, 1, 0, 1, 0, 1, 2,\n",
       "       2, 1, 0, 1, 1, 0, 1, 1, 2, 2, 0, 1, 1, 1, 1, 1, 0, 0, 1, 2, 0, 1,\n",
       "       1, 0, 2, 0, 1, 2, 2, 1, 1, 2, 1, 1, 0, 0, 1, 1, 1, 1, 1, 0, 2, 0,\n",
       "       1, 0, 1, 1, 1, 1, 0, 2, 1, 2, 1, 1, 1, 1, 1, 1, 2, 1, 1, 0, 1, 1,\n",
       "       1, 1, 1, 1, 1, 2, 1, 2, 1, 1, 1, 1, 1, 1, 0, 1, 1, 0, 1, 0, 1, 0,\n",
       "       1, 1, 1, 1, 0, 0, 1, 1, 1, 1, 1, 1, 1, 0, 1, 1, 1, 2, 1, 1, 0, 1,\n",
       "       1, 1, 1, 1, 2, 0, 0, 1, 0, 1, 0, 1, 1, 1, 1, 0, 0, 1, 1, 1, 0, 0,\n",
       "       1, 1, 2, 1, 0, 1, 1, 1, 1, 1, 1, 1, 1, 0, 1, 0, 1, 1, 0, 0, 2, 0,\n",
       "       0, 1, 1, 1, 1, 0, 2, 1, 0, 1, 1, 0, 2, 2, 1, 0, 1, 0, 2, 0, 0, 1,\n",
       "       1, 1, 1, 1, 1, 1, 2, 1, 1, 0, 0, 1, 1, 0, 1, 1, 1, 1, 0, 1, 1, 0,\n",
       "       0, 1, 1, 1, 2, 1, 1, 1, 1, 1, 1, 0, 2, 1, 2, 1, 0, 1, 0, 0, 0, 1,\n",
       "       1, 2, 1, 0, 2, 2, 1, 0, 1, 0, 1, 1, 0, 1, 0, 0, 2, 0, 0, 1, 1, 0,\n",
       "       1, 1, 1, 1, 1, 1, 1, 0, 0, 1, 1, 2, 0, 0, 0, 0, 1, 0, 2, 0, 1, 1,\n",
       "       0, 1, 1, 1, 1, 2, 1, 1, 1, 1, 1, 1, 1, 1, 1, 1, 1, 1, 0, 2, 1, 0,\n",
       "       1, 1, 1, 2, 0, 0, 1, 0, 1, 2, 1, 1, 1, 2, 1, 0, 1, 1, 1, 0, 1, 1,\n",
       "       2, 0, 1, 1, 1, 0, 1, 2, 1, 1, 1, 1, 0, 0, 0, 0, 1, 0, 1, 0, 1, 0,\n",
       "       0], dtype=int64)"
      ]
     },
     "execution_count": 81,
     "metadata": {},
     "output_type": "execute_result"
    }
   ],
   "source": [
    "import numpy as np\n",
    "rounded_labels=np.argmax(Y_test, axis=1)\n",
    "rounded_labels"
   ]
  },
  {
   "cell_type": "code",
   "execution_count": 82,
   "id": "d8574b2a",
   "metadata": {},
   "outputs": [
    {
     "data": {
      "text/plain": [
       "array([[137,  72,   6],\n",
       "       [ 78, 324,  24],\n",
       "       [ 15,  20,  51]], dtype=int64)"
      ]
     },
     "execution_count": 82,
     "metadata": {},
     "output_type": "execute_result"
    }
   ],
   "source": [
    "from sklearn.metrics import confusion_matrix\n",
    "cm = confusion_matrix(rounded_labels, yhat_classes)\n",
    "cm"
   ]
  },
  {
   "cell_type": "code",
   "execution_count": 83,
   "id": "c5d21b4a",
   "metadata": {},
   "outputs": [
    {
     "data": {
      "image/png": "[encoded data removed]",
      "text/plain": [
       "<Figure size 500x500 with 2 Axes>"
      ]
     },
     "metadata": {},
     "output_type": "display_data"
    }
   ],
   "source": [
    "# The confusion matrix\n",
    "from sklearn.metrics import confusion_matrix\n",
    "import seaborn as sns\n",
    "\n",
    "lstm_val = confusion_matrix(rounded_labels, yhat_classes)\n",
    "f, ax = plt.subplots(figsize=(5,5))\n",
    "sns.heatmap(lstm_val, annot=True, linewidth=0.7, linecolor='cyan', fmt='g', ax=ax, cmap=\"BuPu\")\n",
    "plt.title('LSTM Classification Confusion Matrix')\n",
    "plt.xlabel('Y predict')\n",
    "plt.ylabel('Y test')\n",
    "plt.show()"
   ]
  },
  {
   "cell_type": "code",
   "execution_count": 84,
   "id": "b6a0ee41",
   "metadata": {},
   "outputs": [
    {
     "name": "stdout",
     "output_type": "stream",
     "text": [
      "4/4 [==============================] - 0s 14ms/step - loss: 1.4415 - acc: 0.7436\n",
      "score: 1.44\n",
      "acc: 0.74\n"
     ]
    }
   ],
   "source": [
    "validation_size = 610\n",
    "\n",
    "X_validate = X_test[-validation_size:]\n",
    "Y_validate = Y_test[-validation_size:]\n",
    "X_test = X_test[:-validation_size]\n",
    "Y_test = Y_test[:-validation_size]\n",
    "score,acc = model.evaluate(X_test, Y_test, verbose = 1, batch_size = batch_size)\n",
    "\n",
    "print(\"score: %.2f\" % (score))\n",
    "print(\"acc: %.2f\" % (acc))"
   ]
  },
  {
   "cell_type": "code",
   "execution_count": 91,
   "id": "90659561",
   "metadata": {},
   "outputs": [
    {
     "name": "stdout",
     "output_type": "stream",
     "text": [
      "1/1 [==============================] - 0s 42ms/step\n",
      "[[0.07929023 0.35338932 0.56732047]] 2\n"
     ]
    }
   ],
   "source": [
    "message = ['Congratulations!']\n",
    "seq = tokenizer.texts_to_sequences(message)\n",
    "\n",
    "padded = pad_sequences(seq, maxlen=X.shape[1], dtype='int32', value=0)\n",
    "\n",
    "pred = model.predict(padded)\n",
    "\n",
    "labels = ['0','1','2']\n",
    "print(pred, labels[np.argmax(pred)])"
   ]
  },
  {
   "cell_type": "markdown",
   "id": "ad0bb64c",
   "metadata": {},
   "source": [
    "# Testing with examples\n",
    "  0 = negative, 1 = neutral, 2 = positive"
   ]
  },
  {
   "cell_type": "code",
   "execution_count": 86,
   "id": "070b22ca",
   "metadata": {},
   "outputs": [
    {
     "name": "stdout",
     "output_type": "stream",
     "text": [
      "1/1 [==============================] - 0s 44ms/step\n",
      "[[4.4010906e-03 2.7898516e-04 9.9531990e-01]] 2\n"
     ]
    }
   ],
   "source": [
    "message = ['such massive asteroid hit will certainly create new business opportunities']\n",
    "seq = tokenizer.texts_to_sequences(message)\n",
    "\n",
    "padded = pad_sequences(seq, maxlen=X.shape[1], dtype='int32', value=0)\n",
    "\n",
    "pred = model.predict(padded)\n",
    "\n",
    "labels = ['0','1','2']\n",
    "print(pred, labels[np.argmax(pred)])"
   ]
  },
  {
   "cell_type": "code",
   "execution_count": 89,
   "id": "b1ba2516",
   "metadata": {},
   "outputs": [
    {
     "name": "stdout",
     "output_type": "stream",
     "text": [
      "1/1 [==============================] - 0s 44ms/step\n",
      "[[9.610366e-11 1.000000e+00 9.772158e-11]] 1\n"
     ]
    }
   ],
   "source": [
    "message = ['so does anyone else not open Snapchat anymore ? or is it just me ... ugh this so sad.']\n",
    "seq = tokenizer.texts_to_sequences(message)\n",
    "\n",
    "padded = pad_sequences(seq, maxlen=X.shape[1], dtype='int32', value=0)\n",
    "\n",
    "pred = model.predict(padded)\n",
    "\n",
    "labels = ['0','1','2']\n",
    "print(pred, labels[np.argmax(pred)])"
   ]
  },
  {
   "cell_type": "code",
   "execution_count": 90,
   "id": "74ca2e87",
   "metadata": {},
   "outputs": [
    {
     "name": "stdout",
     "output_type": "stream",
     "text": [
      "1/1 [==============================] - 0s 49ms/step\n",
      "[[1.4385699e-07 2.3568324e-08 9.9999988e-01]] 2\n"
     ]
    }
   ],
   "source": [
    "message = ['The local electronics industry is amid layoff concerns and last year has laid off tens of employees']\n",
    "seq = tokenizer.texts_to_sequences(message)\n",
    "\n",
    "padded = pad_sequences(seq, maxlen=X.shape[1], dtype='int32', value=0)\n",
    "\n",
    "pred = model.predict(padded)\n",
    "\n",
    "labels = ['0','1','2']\n",
    "print(pred, labels[np.argmax(pred)])"
   ]
  },
  {
   "cell_type": "code",
   "execution_count": null,
   "id": "374e555b",
   "metadata": {},
   "outputs": [],
   "source": []
  }
 ],
 "metadata": {
  "kernelspec": {
   "display_name": "Python 3 (ipykernel)",
   "language": "python",
   "name": "python3"
  },
  "language_info": {
   "codemirror_mode": {
    "name": "ipython",
    "version": 3
   },
   "file_extension": ".py",
   "mimetype": "text/x-python",
   "name": "python",
   "nbconvert_exporter": "python",
   "pygments_lexer": "ipython3",
   "version": "3.11.5"
  }
 },
 "nbformat": 4,
 "nbformat_minor": 5
}
