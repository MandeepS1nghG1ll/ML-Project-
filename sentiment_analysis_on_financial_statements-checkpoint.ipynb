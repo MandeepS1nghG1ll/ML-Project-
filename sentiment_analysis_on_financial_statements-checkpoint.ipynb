{
 "cells": [
  {
   "cell_type": "code",
   "execution_count": 1,
   "id": "fc6a6cbf",
   "metadata": {},
   "outputs": [
    {
     "name": "stdout",
     "output_type": "stream",
     "text": [
      "WARNING:tensorflow:From C:\\Users\\LENOVO\\anaconda3\\Lib\\site-packages\\keras\\src\\losses.py:2976: The name tf.losses.sparse_softmax_cross_entropy is deprecated. Please use tf.compat.v1.losses.sparse_softmax_cross_entropy instead.\n",
      "\n"
     ]
    }
   ],
   "source": [
    "import pandas as pd\n",
    "import numpy as np\n",
    "from tqdm import tqdm\n",
    "from keras.preprocessing.text import Tokenizer\n",
    "tqdm.pandas(desc=\"progress-bar\")\n",
    "from gensim.models import Doc2Vec\n",
    "from sklearn import utils\n",
    "from sklearn.model_selection import train_test_split\n",
    "from keras.preprocessing.sequence import pad_sequences\n",
    "import gensim\n",
    "from sklearn.linear_model import LogisticRegression\n",
    "from gensim.models.doc2vec import TaggedDocument\n",
    "import re\n",
    "import seaborn as sns\n",
    "import matplotlib.pyplot as plt"
   ]
  },
  {
   "cell_type": "code",
   "execution_count": 2,
   "id": "f720fb07",
   "metadata": {},
   "outputs": [
    {
     "data": {
      "text/html": [
       "<div>\n",
       "<style scoped>\n",
       "    .dataframe tbody tr th:only-of-type {\n",
       "        vertical-align: middle;\n",
       "    }\n",
       "\n",
       "    .dataframe tbody tr th {\n",
       "        vertical-align: top;\n",
       "    }\n",
       "\n",
       "    .dataframe thead th {\n",
       "        text-align: right;\n",
       "    }\n",
       "</style>\n",
       "<table border=\"1\" class=\"dataframe\">\n",
       "  <thead>\n",
       "    <tr style=\"text-align: right;\">\n",
       "      <th></th>\n",
       "      <th>neutral</th>\n",
       "      <th>According to Gran , the company has no plans to move all production to Russia , although that is where the company is growing .</th>\n",
       "    </tr>\n",
       "  </thead>\n",
       "  <tbody>\n",
       "    <tr>\n",
       "      <th>0</th>\n",
       "      <td>neutral</td>\n",
       "      <td>Technopolis plans to develop in stages an area...</td>\n",
       "    </tr>\n",
       "    <tr>\n",
       "      <th>1</th>\n",
       "      <td>negative</td>\n",
       "      <td>The international electronic industry company ...</td>\n",
       "    </tr>\n",
       "    <tr>\n",
       "      <th>2</th>\n",
       "      <td>positive</td>\n",
       "      <td>With the new production plant the company woul...</td>\n",
       "    </tr>\n",
       "    <tr>\n",
       "      <th>3</th>\n",
       "      <td>positive</td>\n",
       "      <td>According to the company 's updated strategy f...</td>\n",
       "    </tr>\n",
       "    <tr>\n",
       "      <th>4</th>\n",
       "      <td>positive</td>\n",
       "      <td>FINANCING OF ASPOCOMP 'S GROWTH Aspocomp is ag...</td>\n",
       "    </tr>\n",
       "  </tbody>\n",
       "</table>\n",
       "</div>"
      ],
      "text/plain": [
       "    neutral  \\\n",
       "0   neutral   \n",
       "1  negative   \n",
       "2  positive   \n",
       "3  positive   \n",
       "4  positive   \n",
       "\n",
       "  According to Gran , the company has no plans to move all production to Russia , although that is where the company is growing .  \n",
       "0  Technopolis plans to develop in stages an area...                                                                               \n",
       "1  The international electronic industry company ...                                                                               \n",
       "2  With the new production plant the company woul...                                                                               \n",
       "3  According to the company 's updated strategy f...                                                                               \n",
       "4  FINANCING OF ASPOCOMP 'S GROWTH Aspocomp is ag...                                                                               "
      ]
     },
     "execution_count": 2,
     "metadata": {},
     "output_type": "execute_result"
    }
   ],
   "source": [
    "df = pd.read_csv('all-data.csv',delimiter=',',encoding='latin-1')\n",
    "df.head()"
   ]
  },
  {
   "cell_type": "code",
   "execution_count": 3,
   "id": "d6c9f9b3",
   "metadata": {},
   "outputs": [],
   "source": [
    "df = df.rename(columns={'neutral':'sentiment','According to Gran , the company has no plans to move all production to Russia , although that is where the company is growing .':'Message'})"
   ]
  },
  {
   "cell_type": "code",
   "execution_count": 4,
   "id": "ff583910",
   "metadata": {},
   "outputs": [
    {
     "data": {
      "text/html": [
       "<div>\n",
       "<style scoped>\n",
       "    .dataframe tbody tr th:only-of-type {\n",
       "        vertical-align: middle;\n",
       "    }\n",
       "\n",
       "    .dataframe tbody tr th {\n",
       "        vertical-align: top;\n",
       "    }\n",
       "\n",
       "    .dataframe thead th {\n",
       "        text-align: right;\n",
       "    }\n",
       "</style>\n",
       "<table border=\"1\" class=\"dataframe\">\n",
       "  <thead>\n",
       "    <tr style=\"text-align: right;\">\n",
       "      <th></th>\n",
       "      <th>sentiment</th>\n",
       "      <th>Message</th>\n",
       "    </tr>\n",
       "  </thead>\n",
       "  <tbody>\n",
       "    <tr>\n",
       "      <th>0</th>\n",
       "      <td>neutral</td>\n",
       "      <td>Technopolis plans to develop in stages an area...</td>\n",
       "    </tr>\n",
       "    <tr>\n",
       "      <th>1</th>\n",
       "      <td>negative</td>\n",
       "      <td>The international electronic industry company ...</td>\n",
       "    </tr>\n",
       "    <tr>\n",
       "      <th>2</th>\n",
       "      <td>positive</td>\n",
       "      <td>With the new production plant the company woul...</td>\n",
       "    </tr>\n",
       "    <tr>\n",
       "      <th>3</th>\n",
       "      <td>positive</td>\n",
       "      <td>According to the company 's updated strategy f...</td>\n",
       "    </tr>\n",
       "    <tr>\n",
       "      <th>4</th>\n",
       "      <td>positive</td>\n",
       "      <td>FINANCING OF ASPOCOMP 'S GROWTH Aspocomp is ag...</td>\n",
       "    </tr>\n",
       "  </tbody>\n",
       "</table>\n",
       "</div>"
      ],
      "text/plain": [
       "  sentiment                                            Message\n",
       "0   neutral  Technopolis plans to develop in stages an area...\n",
       "1  negative  The international electronic industry company ...\n",
       "2  positive  With the new production plant the company woul...\n",
       "3  positive  According to the company 's updated strategy f...\n",
       "4  positive  FINANCING OF ASPOCOMP 'S GROWTH Aspocomp is ag..."
      ]
     },
     "execution_count": 4,
     "metadata": {},
     "output_type": "execute_result"
    }
   ],
   "source": [
    "df.head()"
   ]
  },
  {
   "cell_type": "code",
   "execution_count": 5,
   "id": "21b40f8a",
   "metadata": {},
   "outputs": [
    {
     "data": {
      "text/plain": [
       "111964"
      ]
     },
     "execution_count": 5,
     "metadata": {},
     "output_type": "execute_result"
    }
   ],
   "source": [
    "df.index = range(4845)\n",
    "df['Message'].apply(lambda x: len(x.split(' '))).sum()"
   ]
  },
  {
   "cell_type": "code",
   "execution_count": 6,
   "id": "5ae30b74",
   "metadata": {},
   "outputs": [
    {
     "data": {
      "text/plain": [
       "(4845, 2)"
      ]
     },
     "execution_count": 6,
     "metadata": {},
     "output_type": "execute_result"
    }
   ],
   "source": [
    "df.shape"
   ]
  },
  {
   "cell_type": "code",
   "execution_count": 7,
   "id": "b51f846e",
   "metadata": {},
   "outputs": [
    {
     "data": {
      "image/png": "[encoded data removed]",
      "text/plain": [
       "<Figure size 1200x400 with 1 Axes>"
      ]
     },
     "metadata": {},
     "output_type": "display_data"
    }
   ],
   "source": [
    "cnt_pro = df['sentiment'].value_counts()\n",
    "plt.figure(figsize=(12,4))\n",
    "sns.barplot(x=cnt_pro.index, y=cnt_pro.values, alpha=0.8)\n",
    "plt.ylabel('Number of Occurrences', fontsize=12)\n",
    "plt.xlabel('sentiment', fontsize=12)\n",
    "plt.xticks(rotation=90)\n",
    "plt.show();"
   ]
  },
  {
   "cell_type": "code",
   "execution_count": 8,
   "id": "69424f4a",
   "metadata": {},
   "outputs": [
    {
     "name": "stdout",
     "output_type": "stream",
     "text": [
      "      sentiment                                            Message\n",
      "0             1  Technopolis plans to develop in stages an area...\n",
      "1             2  The international electronic industry company ...\n",
      "2             0  With the new production plant the company woul...\n",
      "3             0  According to the company 's updated strategy f...\n",
      "4             0  FINANCING OF ASPOCOMP 'S GROWTH Aspocomp is ag...\n",
      "...         ...                                                ...\n",
      "4840          2  LONDON MarketWatch -- Share prices ended lower...\n",
      "4841          1  Rinkuskiai 's beer sales fell by 6.5 per cent ...\n",
      "4842          2  Operating profit fell to EUR 35.4 mn from EUR ...\n",
      "4843          2  Net sales of the Paper segment decreased to EU...\n",
      "4844          2  Sales in Finland decreased by 10.5 % in Januar...\n",
      "\n",
      "[4845 rows x 2 columns]\n"
     ]
    }
   ],
   "source": [
    "#Convert sting to numeric\n",
    "sentiment  = {'positive': 0,'neutral': 1,'negative':2} \n",
    "\n",
    "df.sentiment = [sentiment[item] for item in df.sentiment] \n",
    "print(df)"
   ]
  },
  {
   "cell_type": "code",
   "execution_count": 9,
   "id": "4233a2d7",
   "metadata": {},
   "outputs": [
    {
     "name": "stdout",
     "output_type": "stream",
     "text": [
      "Finnish Talentum reports its operating profit increased to EUR 20.5 mn in 2005 from EUR 9.3 mn in 2004 , and net sales totaled EUR 103.3 mn , up from EUR 96.4 mn .\n",
      "Message: 0\n"
     ]
    }
   ],
   "source": [
    "def print_message(index):\n",
    "    example = df[df.index == index][['Message', 'sentiment']].values[0]\n",
    "    if len(example) > 0:\n",
    "        print(example[0])\n",
    "        print('Message:', example[1])\n",
    "print_message(12)"
   ]
  },
  {
   "cell_type": "code",
   "execution_count": 10,
   "id": "2476b411",
   "metadata": {},
   "outputs": [
    {
     "name": "stdout",
     "output_type": "stream",
     "text": [
      "The international electronic industry company Elcoteq has laid off tens of employees from its Tallinn facility ; contrary to earlier layoffs the company contracted the ranks of its office workers , the daily Postimees reported .\n",
      "Message: 2\n",
      "Net sales increased to EUR193 .3 m from EUR179 .9 m and pretax profit rose by 34.2 % to EUR43 .1 m. ( EUR1 = USD1 .4 )\n",
      "Message: 0\n",
      "FINANCING OF ASPOCOMP 'S GROWTH Aspocomp is aggressively pursuing its growth strategy by increasingly focusing on technologically more demanding HDI printed circuit boards PCBs .\n",
      "Message: 0\n"
     ]
    }
   ],
   "source": [
    "print_message(1)\n",
    "print_message(23)\n",
    "print_message(4)"
   ]
  },
  {
   "cell_type": "code",
   "execution_count": 11,
   "id": "a86ac8a6",
   "metadata": {},
   "outputs": [
    {
     "name": "stderr",
     "output_type": "stream",
     "text": [
      "C:\\Users\\LENOVO\\AppData\\Local\\Temp\\ipykernel_14548\\2959445239.py:3: MarkupResemblesLocatorWarning: The input looks more like a filename than markup. You may want to open this file and pass the filehandle into Beautiful Soup.\n",
      "  text = BeautifulSoup(text, \"lxml\").text\n"
     ]
    }
   ],
   "source": [
    "from bs4 import BeautifulSoup\n",
    "def cleanText(text):\n",
    "    text = BeautifulSoup(text, \"lxml\").text\n",
    "    text = re.sub(r'\\|\\|\\|', r' ', text) \n",
    "    text = re.sub(r'http\\S+', r'<URL>', text)\n",
    "    text = text.lower()\n",
    "    text = text.replace('x', '')\n",
    "    return text\n",
    "df['Message'] = df['Message'].apply(cleanText)"
   ]
  },
  {
   "cell_type": "code",
   "execution_count": 12,
   "id": "8319ec91",
   "metadata": {},
   "outputs": [
    {
     "name": "stderr",
     "output_type": "stream",
     "text": [
      "C:\\Users\\LENOVO\\AppData\\Local\\Temp\\ipykernel_14548\\2959445239.py:3: MarkupResemblesLocatorWarning: The input looks more like a filename than markup. You may want to open this file and pass the filehandle into Beautiful Soup.\n",
      "  text = BeautifulSoup(text, \"lxml\").text\n"
     ]
    },
    {
     "name": "stdout",
     "output_type": "stream",
     "text": [
      "Found 4845 unique tokens.\n"
     ]
    }
   ],
   "source": [
    "df['Message'] = df['Message'].apply(cleanText)\n",
    "train, test = train_test_split(df, test_size=0.000001 , random_state=42)\n",
    "import nltk\n",
    "from nltk.corpus import stopwords\n",
    "def tokenize_text(text):\n",
    "    tokens = []\n",
    "    for sent in nltk.sent_tokenize(text):\n",
    "        for word in nltk.word_tokenize(sent):\n",
    "            #if len(word) < 0:\n",
    "            if len(word) <= 0:\n",
    "                continue\n",
    "            tokens.append(word.lower())\n",
    "    return tokens\n",
    "train_tagged = train.apply(\n",
    "    lambda r: TaggedDocument(words=tokenize_text(r['Message']), tags=[r.sentiment]), axis=1)\n",
    "test_tagged = test.apply(\n",
    "    lambda r: TaggedDocument(words=tokenize_text(r['Message']), tags=[r.sentiment]), axis=1)\n",
    "\n",
    "# The maximum number of words to be used. (most frequent)\n",
    "max_fatures = 500000\n",
    "\n",
    "# Max number of words in each complaint.\n",
    "MAX_SEQUENCE_LENGTH = 50\n",
    "\n",
    "#tokenizer = Tokenizer(num_words=max_fatures, split=' ')\n",
    "tokenizer = Tokenizer(num_words=max_fatures, split=' ', filters='!\"#$%&()*+,-./:;<=>?@[\\]^_`{|}~', lower=True)\n",
    "tokenizer.fit_on_texts(df['Message'].values)\n",
    "X = tokenizer.texts_to_sequences(df['Message'].values)\n",
    "X = pad_sequences(X)\n",
    "print('Found %s unique tokens.' % len(X))"
   ]
  },
  {
   "cell_type": "code",
   "execution_count": 13,
   "id": "bed03a01",
   "metadata": {},
   "outputs": [
    {
     "name": "stdout",
     "output_type": "stream",
     "text": [
      "Shape of data tensor: (4845, 50)\n"
     ]
    }
   ],
   "source": [
    "X = tokenizer.texts_to_sequences(df['Message'].values)\n",
    "X = pad_sequences(X, maxlen=MAX_SEQUENCE_LENGTH)\n",
    "print('Shape of data tensor:', X.shape)"
   ]
  },
  {
   "cell_type": "code",
   "execution_count": 14,
   "id": "2c0d8d6d",
   "metadata": {},
   "outputs": [
    {
     "data": {
      "text/plain": [
       "array([TaggedDocument(words=['upm-kymmene', 'has', 'generated', 'four', 'consecutive', 'quarters', 'of', 'positive', 'free', 'cash', 'flow', '.'], tags=[0]),\n",
       "       TaggedDocument(words=['in', 'the', 'method', 'the', 'smelt', 'spouts', '2', 'are', 'separated', 'from', 'the', 'working', 'area', '6', 'by', 'a', 'shielding', 'wall', '8', ',', '10', 'arranged', 'movable', 'in', 'relation', 'to', 'the', 'smelt', 'spouts', '.'], tags=[1]),\n",
       "       TaggedDocument(words=['``', 'that', \"'s\", 'a', 'very', 'high', 'figure', 'on', 'the', 'european', 'scale', ',', '``', 'noop', 'said', ',', 'recalling', 'however', 'that', 'this', 'also', 'includes', 'beer', 'bought', 'by', 'finnish', 'tourists', '.'], tags=[1]),\n",
       "       ...,\n",
       "       TaggedDocument(words=['proha', 'plc', '(', 'euronet', ':7327', ')', 'announced', 'today', '(', '19', 'may', ')', 'that', 'its', 'fully-owned', 'subsidiary', ',', 'safran', 'software', 'solutions', 'as', ',', 'has', 'agreed', 'to', 'sell', 'its', '49', '%', 'share', 'of', 'safran', 'north', 'america', 'llc', 'to', 'a', 'sna', 'holding', 'as', ',', 'an', 'investment', 'group', 'based', 'in', 'norway', '.'], tags=[1]),\n",
       "       TaggedDocument(words=['the', 'building', 'will', 'house', 'product', 'development', 'and', 'test', 'laboratories', '.'], tags=[1]),\n",
       "       TaggedDocument(words=['(', 'adp', 'news', ')', '-', 'oct', '31', ',', '2008', '-', 'finnish', 'food', 'company', 'raisio', 'oyj', '(', 'om', ':', 'raivv', ')', 'said', 'today', 'that', 'its', 'net', 'profit', 'jumped', 'to', 'eur', '16.4', 'million', '(', 'usd', '20.9', 'm', ')', 'for', 'the', 'first', 'nine', 'months', 'of', '2008', 'from', 'eur', '1.1', 'million', 'for', 'the', 'same', 'period', 'of', '2'], tags=[0])],\n",
       "      dtype=object)"
      ]
     },
     "execution_count": 14,
     "metadata": {},
     "output_type": "execute_result"
    }
   ],
   "source": [
    "#train_tagged.values[2173]\n",
    "train_tagged.values"
   ]
  },
  {
   "cell_type": "code",
   "execution_count": 15,
   "id": "9839b574",
   "metadata": {},
   "outputs": [
    {
     "name": "stderr",
     "output_type": "stream",
     "text": [
      "100%|█████████████████████████████████████████████████████████████████████████| 4844/4844 [00:00<00:00, 2104973.95it/s]\n"
     ]
    }
   ],
   "source": [
    "d2v_model = Doc2Vec(dm=1, dm_mean=1, vector_size=20, window=8, min_count=1, workers=1, alpha=0.065, min_alpha=0.065)\n",
    "d2v_model.build_vocab([x for x in tqdm(train_tagged.values)])"
   ]
  },
  {
   "cell_type": "code",
   "execution_count": 16,
   "id": "ba292184",
   "metadata": {},
   "outputs": [
    {
     "name": "stderr",
     "output_type": "stream",
     "text": [
      "100%|██████████████████████████████████████████████████████████████████████████████████████| 4844/4844 [00:00<?, ?it/s]\n",
      "100%|█████████████████████████████████████████████████████████████████████████| 4844/4844 [00:00<00:00, 1211087.78it/s]\n",
      "100%|██████████████████████████████████████████████████████████████████████████████████████| 4844/4844 [00:00<?, ?it/s]\n",
      "100%|██████████████████████████████████████████████████████████████████████████████████████| 4844/4844 [00:00<?, ?it/s]\n",
      "100%|██████████████████████████████████████████████████████████████████████████████████████| 4844/4844 [00:00<?, ?it/s]\n",
      "100%|██████████████████████████████████████████████████████████████████████████████████████| 4844/4844 [00:00<?, ?it/s]\n",
      "100%|██████████████████████████████████████████████████████████████████████████████████████| 4844/4844 [00:00<?, ?it/s]\n",
      "100%|█████████████████████████████████████████████████████████████████████████| 4844/4844 [00:00<00:00, 4498939.01it/s]\n",
      "100%|█████████████████████████████████████████████████████████████████████████| 4844/4844 [00:00<00:00, 1139367.91it/s]\n",
      "100%|█████████████████████████████████████████████████████████████████████████| 4844/4844 [00:00<00:00, 1210943.41it/s]\n",
      "100%|█████████████████████████████████████████████████████████████████████████| 4844/4844 [00:00<00:00, 1277892.23it/s]\n",
      "100%|██████████████████████████████████████████████████████████████████████████████████████| 4844/4844 [00:00<?, ?it/s]\n",
      "100%|██████████████████████████████████████████████████████████████████████████████████████| 4844/4844 [00:00<?, ?it/s]\n",
      "100%|█████████████████████████████████████████████████████████████████████████| 4844/4844 [00:00<00:00, 1208638.23it/s]\n",
      "100%|██████████████████████████████████████████████████████████████████████████████████████| 4844/4844 [00:00<?, ?it/s]\n",
      "100%|██████████████████████████████████████████████████████████████████████████████████████| 4844/4844 [00:00<?, ?it/s]\n",
      "100%|█████████████████████████████████████████████████████████████████████████| 4844/4844 [00:00<00:00, 1210510.52it/s]\n",
      "100%|█████████████████████████████████████████████████████████████████████████| 4844/4844 [00:00<00:00, 1367977.95it/s]\n",
      "100%|██████████████████████████████████████████████████████████████████████████████████████| 4844/4844 [00:00<?, ?it/s]\n",
      "100%|█████████████████████████████████████████████████████████████████████████| 4844/4844 [00:00<00:00, 1210294.19it/s]\n",
      "100%|██████████████████████████████████████████████████████████████████████████████████████| 4844/4844 [00:00<?, ?it/s]\n",
      "100%|█████████████████████████████████████████████████████████████████████████| 4844/4844 [00:00<00:00, 3216274.91it/s]\n",
      "100%|█████████████████████████████████████████████████████████████████████████| 4844/4844 [00:00<00:00, 9029870.48it/s]\n",
      "100%|█████████████████████████████████████████████████████████████████████████| 4844/4844 [00:00<00:00, 1143729.37it/s]\n",
      "100%|█████████████████████████████████████████████████████████████████████████| 4844/4844 [00:00<00:00, 4695449.17it/s]\n",
      "100%|█████████████████████████████████████████████████████████████████████████| 4844/4844 [00:00<00:00, 2718021.21it/s]\n",
      "100%|██████████████████████████████████████████████████████████████████████████████████████| 4844/4844 [00:00<?, ?it/s]\n",
      "100%|█████████████████████████████████████████████████████████████████████████| 4844/4844 [00:00<00:00, 2388854.62it/s]\n",
      "100%|██████████████████████████████████████████████████████████████████████████████████████| 4844/4844 [00:00<?, ?it/s]\n",
      "100%|█████████████████████████████████████████████████████████████████████████| 4844/4844 [00:00<00:00, 3041498.29it/s]\n"
     ]
    },
    {
     "name": "stdout",
     "output_type": "stream",
     "text": [
      "CPU times: total: 4.27 s\n",
      "Wall time: 10.1 s\n"
     ]
    }
   ],
   "source": [
    "%%time\n",
    "for epoch in range(30):\n",
    "    d2v_model.train(utils.shuffle([x for x in tqdm(train_tagged.values)]), total_examples=len(train_tagged.values), epochs=1)\n",
    "    d2v_model.alpha -= 0.002\n",
    "    d2v_model.min_alpha = d2v_model.alpha"
   ]
  },
  {
   "cell_type": "code",
   "execution_count": 17,
   "id": "ae5f2efb",
   "metadata": {},
   "outputs": [
    {
     "name": "stdout",
     "output_type": "stream",
     "text": [
      "Doc2Vec<dm/m,d20,n5,w8,s0.001>\n"
     ]
    }
   ],
   "source": [
    "print(d2v_model)\n"
   ]
  },
  {
   "cell_type": "code",
   "execution_count": 18,
   "id": "c5f48370",
   "metadata": {},
   "outputs": [
    {
     "data": {
      "text/plain": [
       "11682"
      ]
     },
     "execution_count": 18,
     "metadata": {},
     "output_type": "execute_result"
    }
   ],
   "source": [
    "len(d2v_model.wv.key_to_index)\n",
    "len(d2v_model.wv.index_to_key)"
   ]
  },
  {
   "cell_type": "code",
   "execution_count": 19,
   "id": "0a245f0c",
   "metadata": {},
   "outputs": [],
   "source": [
    "# save the vectors in a new matrix\n",
    "embedding_matrix = np.zeros((len(d2v_model.wv.key_to_index) + 1, 20))\n",
    "\n",
    "# Iterate through word indices (0 to vocab size - 1)\n",
    "for i in range(len(d2v_model.wv.key_to_index)):\n",
    "  # Get the word using index_to_key\n",
    "  word = d2v_model.wv.index_to_key[i]\n",
    "\n",
    "  # Assuming your word vectors have dimension 20 (modify if different)\n",
    "  if word in d2v_model.wv:  # Check if word exists in vocabulary\n",
    "    vec = d2v_model.wv[word]\n",
    "    embedding_matrix[i] = vec\n",
    "  else:\n",
    "    # Handle words not in vocabulary (e.g., assign zero vector)\n",
    "    embedding_matrix[i] = np.zeros(20)\n"
   ]
  },
  {
   "cell_type": "markdown",
   "id": "45f8e451",
   "metadata": {},
   "source": [
    "# Logistic regression"
   ]
  },
  {
   "cell_type": "code",
   "execution_count": 20,
   "id": "9d9f09d3",
   "metadata": {},
   "outputs": [],
   "source": [
    "import pandas as pd\n",
    "from sklearn.linear_model import LogisticRegression\n",
    "from sklearn.model_selection import train_test_split\n",
    "from sklearn.metrics import accuracy_score, confusion_matrix\n",
    "from bs4 import BeautifulSoup\n",
    "import re\n",
    "import nltk\n",
    "from nltk.corpus import stopwords\n",
    "from gensim.models import Doc2Vec\n",
    "from tqdm import tqdm\n"
   ]
  },
  {
   "cell_type": "code",
   "execution_count": 23,
   "id": "44573768",
   "metadata": {},
   "outputs": [
    {
     "name": "stderr",
     "output_type": "stream",
     "text": [
      "C:\\Users\\LENOVO\\AppData\\Local\\Temp\\ipykernel_14548\\2810077887.py:3: MarkupResemblesLocatorWarning: The input looks more like a filename than markup. You may want to open this file and pass the filehandle into Beautiful Soup.\n",
      "  text = BeautifulSoup(text, \"lxml\").text\n"
     ]
    }
   ],
   "source": [
    "def preprocess_text(text):\n",
    "  \"\"\"Clean and preprocess text for sentiment analysis.\"\"\"\n",
    "  text = BeautifulSoup(text, \"lxml\").text\n",
    "  text = re.sub(r'\\|\\|\\|', r' ', text)  # Remove unnecessary characters\n",
    "  text = re.sub(r'http\\S+', r'<URL>', text)  # Replace URLs with placeholder\n",
    "  text = text.lower()  # Convert to lowercase\n",
    "  text = text.replace('x', '')  # Remove 'x' (if applicable in your data)\n",
    "  return text\n",
    "\n",
    "def tokenize_text(text):\n",
    "  \"\"\"Tokenize text into lowercase words, removing stopwords and empty tokens.\"\"\"\n",
    "  tokens = []\n",
    "  for sent in nltk.sent_tokenize(text):\n",
    "    for word in nltk.word_tokenize(sent):\n",
    "      if len(word) > 0 and word not in stopwords.words('english'):\n",
    "        tokens.append(word.lower())\n",
    "  return tokens\n",
    "\n",
    "df = pd.read_csv('all-data.csv',delimiter=',',encoding='latin-1')\n",
    "df = df.rename(columns={'neutral':'sentiment','According to Gran , the company has no plans to move all production to Russia , although that is where the company is growing .':'Message'})\n",
    "sentiment = {'positive': 0, 'neutral': 1, 'negative': 2}\n",
    "df['sentiment'] = [sentiment[item] for item in df.sentiment]\n",
    "df['Message'] = df['Message'].apply(preprocess_text)\n",
    "df['Message'] = df['Message'].apply(tokenize_text)\n"
   ]
  },
  {
   "cell_type": "code",
   "execution_count": 24,
   "id": "3115f4fd",
   "metadata": {},
   "outputs": [],
   "source": [
    "train, test = train_test_split(df, test_size=0.2, random_state=42)\n"
   ]
  },
  {
   "cell_type": "code",
   "execution_count": 27,
   "id": "79788447",
   "metadata": {},
   "outputs": [
    {
     "name": "stderr",
     "output_type": "stream",
     "text": [
      "100%|██████████████████████████████████████████████████████████████████████████████████████| 3876/3876 [00:00<?, ?it/s]\n",
      "100%|█████████████████████████████████████████████████████████████████████████| 3876/3876 [00:00<00:00, 1917791.94it/s]\n",
      "100%|█████████████████████████████████████████████████████████████████████████| 3876/3876 [00:00<00:00, 7389601.05it/s]\n",
      "100%|██████████████████████████████████████████████████████████████████████████| 3876/3876 [00:00<00:00, 972083.37it/s]\n",
      "100%|█████████████████████████████████████████████████████████████████████████| 3876/3876 [00:00<00:00, 2058124.10it/s]\n",
      "100%|██████████████████████████████████████████████████████████████████████████████████████| 3876/3876 [00:00<?, ?it/s]\n",
      "100%|█████████████████████████████████████████████████████████████████████████| 3876/3876 [00:00<00:00, 2157834.13it/s]\n",
      "100%|█████████████████████████████████████████████████████████████████████████| 3876/3876 [00:00<00:00, 2223044.21it/s]\n",
      "100%|██████████████████████████████████████████████████████████████████████████| 3876/3876 [00:00<00:00, 909082.50it/s]\n",
      "100%|█████████████████████████████████████████████████████████████████████████| 3876/3876 [00:00<00:00, 2010775.80it/s]\n",
      "100%|██████████████████████████████████████████████████████████████████████████████████████| 3876/3876 [00:00<?, ?it/s]\n",
      "100%|█████████████████████████████████████████████████████████████████████████| 3876/3876 [00:00<00:00, 1540959.46it/s]\n",
      "100%|██████████████████████████████████████████████████████████████████████████████████████| 3876/3876 [00:00<?, ?it/s]\n",
      "100%|██████████████████████████████████████████████████████████████████████████████████████| 3876/3876 [00:00<?, ?it/s]\n",
      "100%|█████████████████████████████████████████████████████████████████████████| 3876/3876 [00:00<00:00, 2037744.08it/s]\n",
      "100%|█████████████████████████████████████████████████████████████████████████| 3876/3876 [00:00<00:00, 2239273.04it/s]\n",
      "100%|█████████████████████████████████████████████████████████████████████████| 3876/3876 [00:00<00:00, 1901417.81it/s]\n",
      "100%|█████████████████████████████████████████████████████████████████████████| 3876/3876 [00:00<00:00, 1769386.41it/s]\n",
      "100%|█████████████████████████████████████████████████████████████████████████| 3876/3876 [00:00<00:00, 1527637.88it/s]\n",
      "100%|█████████████████████████████████████████████████████████████████████████| 3876/3876 [00:00<00:00, 1942772.74it/s]\n",
      "100%|█████████████████████████████████████████████████████████████████████████| 3876/3876 [00:00<00:00, 3752798.32it/s]\n",
      "100%|██████████████████████████████████████████████████████████████████████████████████████| 3876/3876 [00:00<?, ?it/s]\n",
      "100%|██████████████████████████████████████████████████████████████████████████| 3876/3876 [00:00<00:00, 967570.66it/s]\n",
      "100%|██████████████████████████████████████████████████████████████████████████████████████| 3876/3876 [00:00<?, ?it/s]\n",
      "100%|██████████████████████████████████████████████████████████████████████████████████████| 3876/3876 [00:00<?, ?it/s]\n",
      "100%|██████████████████████████████████████████████████████████████████████████████████████| 3876/3876 [00:00<?, ?it/s]\n",
      "100%|██████████████████████████████████████████████████████████████████████████████████████| 3876/3876 [00:00<?, ?it/s]\n",
      "100%|██████████████████████████████████████████████████████████████████████████| 3876/3876 [00:00<00:00, 969590.40it/s]\n",
      "100%|██████████████████████████████████████████████████████████████████████████████████████| 3876/3876 [00:00<?, ?it/s]\n",
      "100%|█████████████████████████████████████████████████████████████████████████| 3876/3876 [00:00<00:00, 1555110.23it/s]\n",
      "100%|██████████████████████████████████████████████████████████████████████████| 3876/3876 [00:00<00:00, 974998.34it/s]\n"
     ]
    }
   ],
   "source": [
    "max_features = 50000  # Maximum number of words to consider\n",
    "MAX_SEQUENCE_LENGTH = 50  # Maximum sequence length for padding\n",
    "\n",
    "tokenizer = Tokenizer(num_words=max_features, filters='!\"#$%&()*+,-./:;<=>?@[\\]^_`{|}~', lower=True)\n",
    "tokenizer.fit_on_texts(df['Message'].values)\n",
    "\n",
    "train_tagged = train.apply(\n",
    "  lambda r: TaggedDocument(words=r['Message'], tags=[r.sentiment]), axis=1)\n",
    "test_tagged = test.apply(\n",
    "  lambda r: TaggedDocument(words=r['Message'], tags=[r.sentiment]), axis=1)\n",
    "\n",
    "d2v_model = Doc2Vec(dm=1, dm_mean=1, vector_size=20, window=8, min_count=1, workers=1, alpha=0.065, min_alpha=0.065)\n",
    "d2v_model.build_vocab([x for x in tqdm(train_tagged.values)])\n",
    "\n",
    "\n",
    "for epoch in range(30):\n",
    "  d2v_model.train(utils.shuffle([x for x in tqdm(train_tagged.values)]), total_examples=len(train_tagged.values), epochs=1)\n",
    "  d2v_model.alpha -= 0.002\n",
    "  d2v_model.min_alpha = d2v_model.alpha\n"
   ]
  },
  {
   "cell_type": "code",
   "execution_count": 30,
   "id": "fb4e6730",
   "metadata": {},
   "outputs": [],
   "source": [
    "# Use the recommended attribute 'dv'\n",
    "train_filtered = train.loc[train.index.isin([str(x) for x in d2v_model.dv.index_to_key])]  # Filter train based on Doc2Vec keys\n",
    "test_filtered = test.loc[test.index.isin([str(x) for x in d2v_model.dv.index_to_key])]  # Filter test based on Doc2Vec keys\n",
    "\n",
    "train_vectors = [d2v_model.dv[str(x)] for x in train_filtered.index]\n",
    "test_vectors = [d2v_model.dv[str(x)] for x in test_filtered.index]\n"
   ]
  },
  {
   "cell_type": "code",
   "execution_count": 32,
   "id": "79c94423",
   "metadata": {},
   "outputs": [
    {
     "name": "stdout",
     "output_type": "stream",
     "text": [
      "0\n",
      "3876\n"
     ]
    }
   ],
   "source": [
    "print(len(train_vectors))\n",
    "print(train.shape[0])"
   ]
  },
  {
   "cell_type": "code",
   "execution_count": null,
   "id": "aeccceb6",
   "metadata": {},
   "outputs": [],
   "source": [
    "# Load the data\n",
    "data = pd.read_csv('all-data.csv',delimiter=',',encoding='latin-1')\n",
    "data = data.rename(columns={'neutral':'sentiment','According to Gran , the company has no plans to move all production to Russia , although that is where the company is growing .':'Message'})\n"
   ]
  },
  {
   "cell_type": "code",
   "execution_count": 2,
   "id": "dac8df7a",
   "metadata": {
    "scrolled": true
   },
   "outputs": [
    {
     "name": "stdout",
     "output_type": "stream",
     "text": [
      "Accuracy: 0.7409700722394221\n",
      "Classification Report:\n",
      "              precision    recall  f1-score   support\n",
      "\n",
      "    negative       0.78      0.43      0.56       115\n",
      "     neutral       0.74      0.90      0.81       567\n",
      "    positive       0.74      0.55      0.63       287\n",
      "\n",
      "    accuracy                           0.74       969\n",
      "   macro avg       0.75      0.63      0.67       969\n",
      "weighted avg       0.74      0.74      0.73       969\n",
      "\n"
     ]
    }
   ],
   "source": [
    "import pandas as pd\n",
    "from sklearn.feature_extraction.text import TfidfVectorizer\n",
    "from sklearn.model_selection import train_test_split\n",
    "from sklearn.linear_model import LogisticRegression\n",
    "from sklearn.metrics import accuracy_score, classification_report\n",
    "\n",
    "\n",
    "data = pd.read_csv('all-data.csv',delimiter=',',encoding='latin-1')\n",
    "data = data.rename(columns={'neutral':'sentiment','According to Gran , the company has no plans to move all production to Russia , although that is where the company is growing .':'Message'})\n",
    "\n",
    "\n",
    "# Split data into training and testing sets\n",
    "X_train, X_test, y_train, y_test = train_test_split(data['Message'], data['sentiment'], test_size=0.2, random_state=42)\n",
    "\n",
    "# Vectorize the text data using TF-IDF\n",
    "vectorizer = TfidfVectorizer(max_features=1000)\n",
    "X_train_vec = vectorizer.fit_transform(X_train)\n",
    "X_test_vec = vectorizer.transform(X_test)\n",
    "\n",
    "# Initialize and train logistic regression model\n",
    "model = LogisticRegression(max_iter=1000)\n",
    "model.fit(X_train_vec, y_train)\n",
    "\n",
    "# Predict sentiment labels for test data\n",
    "y_pred = model.predict(X_test_vec)\n",
    "\n",
    "# Evaluate model\n",
    "accuracy = accuracy_score(y_test, y_pred)\n",
    "print(\"Accuracy:\", accuracy)\n",
    "print(\"Classification Report:\")\n",
    "print(classification_report(y_test, y_pred))\n"
   ]
  },
  {
   "cell_type": "code",
   "execution_count": 3,
   "id": "fedb746c",
   "metadata": {},
   "outputs": [
    {
     "name": "stdout",
     "output_type": "stream",
     "text": [
      "Message: I am very satisfied with the company's performance.\n",
      "Predicted Sentiment: positive\n",
      "\n",
      "Message: The recent changes in management have caused uncertainty.\n",
      "Predicted Sentiment: neutral\n",
      "\n",
      "Message: The company's profits are expected to increase next quarter.\n",
      "Predicted Sentiment: positive\n",
      "\n",
      "Message: There is a lack of transparency in the company's financial reports.\n",
      "Predicted Sentiment: neutral\n",
      "\n"
     ]
    }
   ],
   "source": [
    "# Example messages\n",
    "example_messages = [\n",
    "    \"I am very satisfied with the company's performance.\",\n",
    "    \"The recent changes in management have caused uncertainty.\",\n",
    "    \"The company's profits are expected to increase next quarter.\",\n",
    "    \"There is a lack of transparency in the company's financial reports.\"\n",
    "]\n",
    "\n",
    "# Vectorize example messages using the same TF-IDF vectorizer\n",
    "X_example_vec = vectorizer.transform(example_messages)\n",
    "\n",
    "# Predict sentiment labels for example messages\n",
    "y_pred_example = model.predict(X_example_vec)\n",
    "\n",
    "# Print predicted sentiment labels for example messages\n",
    "for message, sentiment in zip(example_messages, y_pred_example):\n",
    "    print(f\"Message: {message}\")\n",
    "    print(f\"Predicted Sentiment: {sentiment}\")\n",
    "    print()\n"
   ]
  },
  {
   "cell_type": "code",
   "execution_count": 4,
   "id": "abd54208",
   "metadata": {
    "scrolled": true
   },
   "outputs": [
    {
     "name": "stdout",
     "output_type": "stream",
     "text": [
      "Naive Bayes Accuracy: 0.7131062951496389\n",
      "Naive Bayes Classification Report:\n",
      "              precision    recall  f1-score   support\n",
      "\n",
      "    negative       0.83      0.39      0.53       115\n",
      "     neutral       0.71      0.94      0.81       567\n",
      "    positive       0.70      0.40      0.51       287\n",
      "\n",
      "    accuracy                           0.71       969\n",
      "   macro avg       0.75      0.58      0.62       969\n",
      "weighted avg       0.72      0.71      0.69       969\n",
      "\n"
     ]
    }
   ],
   "source": [
    "from sklearn.naive_bayes import MultinomialNB\n",
    "\n",
    "# Initialize and train Naive Bayes classifier\n",
    "nb_classifier = MultinomialNB()\n",
    "nb_classifier.fit(X_train_vec, y_train)\n",
    "\n",
    "# Predict sentiment labels for test data\n",
    "y_pred_nb = nb_classifier.predict(X_test_vec)\n",
    "\n",
    "# Evaluate Naive Bayes model\n",
    "accuracy_nb = accuracy_score(y_test, y_pred_nb)\n",
    "print(\"Naive Bayes Accuracy:\", accuracy_nb)\n",
    "print(\"Naive Bayes Classification Report:\")\n",
    "print(classification_report(y_test, y_pred_nb))\n"
   ]
  },
  {
   "cell_type": "code",
   "execution_count": 5,
   "id": "65b0abfe",
   "metadata": {},
   "outputs": [
    {
     "name": "stdout",
     "output_type": "stream",
     "text": [
      "Message: I am very satisfied with the company's performance.\n",
      "Predicted Sentiment: positive\n",
      "\n",
      "Message: The recent changes in management have caused uncertainty.\n",
      "Predicted Sentiment: neutral\n",
      "\n",
      "Message: The company's profits are expected to increase next quarter.\n",
      "Predicted Sentiment: positive\n",
      "\n",
      "Message: There is a lack of transparency in the company's financial reports.\n",
      "Predicted Sentiment: neutral\n",
      "\n"
     ]
    }
   ],
   "source": [
    "from sklearn.naive_bayes import MultinomialNB\n",
    "\n",
    "# Example messages\n",
    "example_messages = [\n",
    "    \"I am very satisfied with the company's performance.\",\n",
    "    \"The recent changes in management have caused uncertainty.\",\n",
    "    \"The company's profits are expected to increase next quarter.\",\n",
    "    \"There is a lack of transparency in the company's financial reports.\"\n",
    "]\n",
    "\n",
    "# Initialize and train Naive Bayes classifier\n",
    "nb_classifier = MultinomialNB()\n",
    "nb_classifier.fit(X_train_vec, y_train)\n",
    "\n",
    "# Vectorize example messages using the same TF-IDF vectorizer\n",
    "X_example_vec = vectorizer.transform(example_messages)\n",
    "\n",
    "# Predict sentiment labels for example messages\n",
    "y_pred_example_nb = nb_classifier.predict(X_example_vec)\n",
    "\n",
    "# Print predicted sentiment labels for example messages\n",
    "for message, sentiment in zip(example_messages, y_pred_example_nb):\n",
    "    print(f\"Message: {message}\")\n",
    "    print(f\"Predicted Sentiment: {sentiment}\")\n",
    "    print()\n"
   ]
  },
  {
   "cell_type": "code",
   "execution_count": 4,
   "id": "0c9b4948",
   "metadata": {},
   "outputs": [
    {
     "name": "stdout",
     "output_type": "stream",
     "text": [
      "SVM Accuracy: 0.7512899896800825\n",
      "SVM Classification Report:\n",
      "              precision    recall  f1-score   support\n",
      "\n",
      "    negative       0.77      0.51      0.61       115\n",
      "     neutral       0.75      0.90      0.82       567\n",
      "    positive       0.75      0.56      0.64       287\n",
      "\n",
      "    accuracy                           0.75       969\n",
      "   macro avg       0.75      0.66      0.69       969\n",
      "weighted avg       0.75      0.75      0.74       969\n",
      "\n"
     ]
    }
   ],
   "source": [
    "from sklearn.svm import SVC\n",
    "\n",
    "# Initialize and train SVM classifier\n",
    "svm_classifier = SVC(kernel='linear')\n",
    "svm_classifier.fit(X_train_vec, y_train)\n",
    "\n",
    "# Predict sentiment labels for test data\n",
    "y_pred_svm = svm_classifier.predict(X_test_vec)\n",
    "\n",
    "# Evaluate SVM model\n",
    "accuracy_svm = accuracy_score(y_test, y_pred_svm)\n",
    "print(\"SVM Accuracy:\", accuracy_svm)\n",
    "print(\"SVM Classification Report:\")\n",
    "print(classification_report(y_test, y_pred_svm))\n"
   ]
  },
  {
   "cell_type": "code",
   "execution_count": 5,
   "id": "7778bb70",
   "metadata": {},
   "outputs": [
    {
     "name": "stdout",
     "output_type": "stream",
     "text": [
      "Random Forest Accuracy: 0.7512899896800825\n",
      "Random Forest Classification Report:\n",
      "              precision    recall  f1-score   support\n",
      "\n",
      "    negative       0.82      0.41      0.55       115\n",
      "     neutral       0.74      0.95      0.83       567\n",
      "    positive       0.79      0.49      0.60       287\n",
      "\n",
      "    accuracy                           0.75       969\n",
      "   macro avg       0.78      0.62      0.66       969\n",
      "weighted avg       0.76      0.75      0.73       969\n",
      "\n"
     ]
    }
   ],
   "source": [
    "from sklearn.ensemble import RandomForestClassifier\n",
    "\n",
    "# Initialize and train Random Forest classifier\n",
    "rf_classifier = RandomForestClassifier(n_estimators=100)\n",
    "rf_classifier.fit(X_train_vec, y_train)\n",
    "\n",
    "# Predict sentiment labels for test data\n",
    "y_pred_rf = rf_classifier.predict(X_test_vec)\n",
    "\n",
    "# Evaluate Random Forest model\n",
    "accuracy_rf = accuracy_score(y_test, y_pred_rf)\n",
    "print(\"Random Forest Accuracy:\", accuracy_rf)\n",
    "print(\"Random Forest Classification Report:\")\n",
    "print(classification_report(y_test, y_pred_rf))\n"
   ]
  },
  {
   "cell_type": "code",
   "execution_count": 6,
   "id": "3a73ab4c",
   "metadata": {
    "scrolled": true
   },
   "outputs": [
    {
     "name": "stdout",
     "output_type": "stream",
     "text": [
      "Gradient Boosting Accuracy: 0.7368421052631579\n",
      "Gradient Boosting Classification Report:\n",
      "              precision    recall  f1-score   support\n",
      "\n",
      "    negative       0.64      0.48      0.55       115\n",
      "     neutral       0.76      0.87      0.81       567\n",
      "    positive       0.71      0.58      0.64       287\n",
      "\n",
      "    accuracy                           0.74       969\n",
      "   macro avg       0.70      0.64      0.67       969\n",
      "weighted avg       0.73      0.74      0.73       969\n",
      "\n"
     ]
    }
   ],
   "source": [
    "from sklearn.ensemble import GradientBoostingClassifier\n",
    "\n",
    "# Initialize and train Gradient Boosting classifier\n",
    "gbm_classifier = GradientBoostingClassifier(n_estimators=100, learning_rate=1.0, max_depth=1, random_state=42)\n",
    "gbm_classifier.fit(X_train_vec, y_train)\n",
    "\n",
    "# Predict sentiment labels for test data\n",
    "y_pred_gbm = gbm_classifier.predict(X_test_vec)\n",
    "\n",
    "# Evaluate GBM model\n",
    "accuracy_gbm = accuracy_score(y_test, y_pred_gbm)\n",
    "print(\"Gradient Boosting Accuracy:\", accuracy_gbm)\n",
    "print(\"Gradient Boosting Classification Report:\")\n",
    "print(classification_report(y_test, y_pred_gbm))\n"
   ]
  },
  {
   "cell_type": "code",
   "execution_count": 10,
   "id": "5d037437",
   "metadata": {},
   "outputs": [
    {
     "name": "stdout",
     "output_type": "stream",
     "text": [
      "KNN Accuracy: 0.6934984520123839\n",
      "KNN Classification Report:\n",
      "              precision    recall  f1-score   support\n",
      "\n",
      "    negative       0.64      0.41      0.50       115\n",
      "     neutral       0.70      0.95      0.80       567\n",
      "    positive       0.70      0.30      0.42       287\n",
      "\n",
      "    accuracy                           0.69       969\n",
      "   macro avg       0.68      0.55      0.58       969\n",
      "weighted avg       0.69      0.69      0.65       969\n",
      "\n"
     ]
    }
   ],
   "source": [
    "from sklearn.neighbors import KNeighborsClassifier\n",
    "\n",
    "# Initialize and train KNN classifier\n",
    "knn_classifier = KNeighborsClassifier(n_neighbors=10)  # You can adjust the number of neighbors (k) as needed\n",
    "knn_classifier.fit(X_train_vec, y_train)\n",
    "\n",
    "# Predict sentiment labels for test data\n",
    "y_pred_knn = knn_classifier.predict(X_test_vec)\n",
    "\n",
    "# Evaluate KNN model\n",
    "accuracy_knn = accuracy_score(y_test, y_pred_knn)\n",
    "print(\"KNN Accuracy:\", accuracy_knn)\n",
    "print(\"KNN Classification Report:\")\n",
    "print(classification_report(y_test, y_pred_knn))\n"
   ]
  },
  {
   "cell_type": "code",
   "execution_count": 8,
   "id": "60e1c102",
   "metadata": {
    "scrolled": true
   },
   "outputs": [
    {
     "name": "stderr",
     "output_type": "stream",
     "text": [
      "[nltk_data] Downloading package punkt to\n",
      "[nltk_data]     C:\\Users\\LENOVO\\AppData\\Roaming\\nltk_data...\n",
      "[nltk_data]   Package punkt is already up-to-date!\n"
     ]
    },
    {
     "name": "stdout",
     "output_type": "stream",
     "text": [
      "Word2Vec + Logistic Regression Accuracy: 0.7110423116615067\n",
      "Word2Vec + Logistic Regression Classification Report:\n",
      "              precision    recall  f1-score   support\n",
      "\n",
      "    negative       0.67      0.41      0.51       115\n",
      "     neutral       0.74      0.88      0.81       567\n",
      "    positive       0.63      0.49      0.55       287\n",
      "\n",
      "    accuracy                           0.71       969\n",
      "   macro avg       0.68      0.59      0.62       969\n",
      "weighted avg       0.70      0.71      0.70       969\n",
      "\n"
     ]
    }
   ],
   "source": [
    "from gensim.models import Word2Vec\n",
    "from gensim.models.word2vec import FAST_VERSION\n",
    "import nltk\n",
    "from nltk.tokenize import word_tokenize\n",
    "import numpy as np\n",
    "\n",
    "# Download NLTK resources\n",
    "nltk.download('punkt')\n",
    "\n",
    "# Tokenize sentences and convert to list of words\n",
    "tokenized_sentences = [word_tokenize(sentence.lower()) for sentence in data['Message']]\n",
    "\n",
    "# Set up Word2Vec model parameters\n",
    "vector_size = 100  # Dimensionality of the word vectors\n",
    "window_size = 5  # Maximum distance between the current and predicted word within a sentence\n",
    "min_count = 1  # Minimum frequency count of words to consider in the model\n",
    "sg = 1  # Skip-gram model (set to 0 for CBOW)\n",
    "epochs = 50  # Number of iterations over the corpus\n",
    "\n",
    "# Train Word2Vec model\n",
    "word2vec_model = Word2Vec(sentences=tokenized_sentences, vector_size=vector_size, window=window_size, min_count=min_count, sg=sg, epochs=epochs, workers=4)\n",
    "\n",
    "# Function to average word vectors for a document\n",
    "def document_vector(word2vec_model, doc):\n",
    "    # Remove out-of-vocabulary words\n",
    "    doc = [word for word in doc if word in word2vec_model.wv.key_to_index]\n",
    "    if len(doc) != 0:\n",
    "        return np.mean(word2vec_model.wv[doc], axis=0)\n",
    "    else:\n",
    "        return np.zeros(vector_size)\n",
    "\n",
    "# Convert financial statements to document vectors\n",
    "X_w2v = np.array([document_vector(word2vec_model, doc) for doc in tokenized_sentences])\n",
    "\n",
    "# Split data into training and testing sets\n",
    "X_train_w2v, X_test_w2v, y_train_w2v, y_test_w2v = train_test_split(X_w2v, data['sentiment'], test_size=0.2, random_state=42)\n",
    "\n",
    "# Train logistic regression or any other classifier on document vectors\n",
    "# For example, using logistic regression\n",
    "logistic_regression_w2v = LogisticRegression(max_iter=1000)\n",
    "logistic_regression_w2v.fit(X_train_w2v, y_train_w2v)\n",
    "\n",
    "# Predict sentiment labels for test data\n",
    "y_pred_w2v = logistic_regression_w2v.predict(X_test_w2v)\n",
    "\n",
    "# Evaluate the model\n",
    "accuracy_w2v = accuracy_score(y_test_w2v, y_pred_w2v)\n",
    "print(\"Word2Vec + Logistic Regression Accuracy:\", accuracy_w2v)\n",
    "print(\"Word2Vec + Logistic Regression Classification Report:\")\n",
    "print(classification_report(y_test_w2v, y_pred_w2v))\n"
   ]
  },
  {
   "cell_type": "code",
   "execution_count": null,
   "id": "9cfd82b2",
   "metadata": {},
   "outputs": [],
   "source": [
    "from sklearn.metrics import confusion_matrix\n",
    "\n",
    "# Confusion matrix for logistic regression model\n",
    "conf_matrix_lr = confusion_matrix(y_test, y_pred)\n",
    "print(\"Confusion Matrix for Logistic Regression:\")\n",
    "print(conf_matrix_lr)\n",
    "\n",
    "# Confusion matrix for Naive Bayes model\n",
    "conf_matrix_nb = confusion_matrix(y_test, y_pred_nb)\n",
    "print(\"\\nConfusion Matrix for Naive Bayes:\")\n",
    "print(conf_matrix_nb)\n",
    "\n",
    "# Confusion matrix for SVM model\n",
    "conf_matrix_svm = confusion_matrix(y_test, y_pred_svm)\n",
    "print(\"\\nConfusion Matrix for SVM:\")\n",
    "print(conf_matrix_svm)\n",
    "\n",
    "# Confusion matrix for Random Forest model\n",
    "conf_matrix_rf = confusion_matrix(y_test, y_pred_rf)\n",
    "print(\"\\nConfusion Matrix for Random Forest:\")\n",
    "print(conf_matrix_rf)\n",
    "\n",
    "# Confusion matrix for Gradient Boosting model\n",
    "conf_matrix_gbm = confusion_matrix(y_test, y_pred_gbm)\n",
    "print(\"\\nConfusion Matrix for Gradient Boosting:\")\n",
    "print(conf_matrix_gbm)\n",
    "\n",
    "# Confusion matrix for KNN model\n",
    "conf_matrix_knn = confusion_matrix(y_test, y_pred_knn)\n",
    "print(\"\\nConfusion Matrix for K-Nearest Neighbors:\")\n",
    "print(conf_matrix_knn)\n",
    "\n",
    "# Confusion matrix for Word2Vec + Logistic Regression model\n",
    "conf_matrix_w2v = confusion_matrix(y_test_w2v, y_pred_w2v)\n",
    "print(\"\\nConfusion Matrix for Word2Vec + Logistic Regression:\")\n",
    "print(conf_matrix_w2v)\n",
    "\n",
    "\n"
   ]
  },
  {
   "cell_type": "code",
   "execution_count": 10,
   "id": "2172bf2b",
   "metadata": {
    "scrolled": true
   },
   "outputs": [
    {
     "data": {
      "image/png": "[encoded data removed]",
      "text/plain": [
       "<Figure size 800x600 with 1 Axes>"
      ]
     },
     "metadata": {},
     "output_type": "display_data"
    },
    {
     "data": {
      "image/png": "[encoded data removed]",
      "text/plain": [
       "<Figure size 800x600 with 1 Axes>"
      ]
     },
     "metadata": {},
     "output_type": "display_data"
    },
    {
     "data": {
      "image/png": "[encoded data removed]",
      "text/plain": [
       "<Figure size 800x600 with 1 Axes>"
      ]
     },
     "metadata": {},
     "output_type": "display_data"
    },
    {
     "data": {
      "image/png": "[encoded data removed]",
      "text/plain": [
       "<Figure size 800x600 with 1 Axes>"
      ]
     },
     "metadata": {},
     "output_type": "display_data"
    },
    {
     "data": {
      "image/png": "[encoded data removed]",
      "text/plain": [
       "<Figure size 800x600 with 1 Axes>"
      ]
     },
     "metadata": {},
     "output_type": "display_data"
    },
    {
     "data": {
      "image/png": "[encoded data removed]",
      "text/plain": [
       "<Figure size 800x600 with 1 Axes>"
      ]
     },
     "metadata": {},
     "output_type": "display_data"
    }
   ],
   "source": [
    "import matplotlib.pyplot as plt\n",
    "import seaborn as sns\n",
    "\n",
    "# Plot confusion matrix function\n",
    "def plot_confusion_matrix(conf_matrix, model_name):\n",
    "    plt.figure(figsize=(8, 6))\n",
    "    sns.heatmap(conf_matrix, annot=True, fmt=\"d\", cmap=\"Blues\", cbar=False)\n",
    "    plt.xlabel('Predicted Label')\n",
    "    plt.ylabel('True Label')\n",
    "    plt.title(f'Confusion Matrix for {model_name}')\n",
    "    plt.show()\n",
    "\n",
    "# Plot confusion matrix for logistic regression model\n",
    "plot_confusion_matrix(conf_matrix_lr, \"Logistic Regression\")\n",
    "\n",
    "# Plot confusion matrix for Naive Bayes model\n",
    "plot_confusion_matrix(conf_matrix_nb, \"Naive Bayes\")\n",
    "\n",
    "# Plot confusion matrix for SVM model\n",
    "plot_confusion_matrix(conf_matrix_svm, \"SVM\")\n",
    "\n",
    "# Plot confusion matrix for Random Forest model\n",
    "plot_confusion_matrix(conf_matrix_rf, \"Random Forest\")\n",
    "\n",
    "# Plot confusion matrix for Gradient Boosting model\n",
    "plot_confusion_matrix(conf_matrix_gbm, \"Gradient Boosting\")\n",
    "\n",
    "# Plot confusion matrix for Word2Vec + Logistic Regression model\n",
    "plot_confusion_matrix(conf_matrix_w2v, \"Word2Vec + Logistic Regression\")\n"
   ]
  },
  {
   "cell_type": "code",
   "execution_count": null,
   "id": "bf988c6c",
   "metadata": {},
   "outputs": [],
   "source": []
  }
 ],
 "metadata": {
  "kernelspec": {
   "display_name": "Python 3 (ipykernel)",
   "language": "python",
   "name": "python3"
  },
  "language_info": {
   "codemirror_mode": {
    "name": "ipython",
    "version": 3
   },
   "file_extension": ".py",
   "mimetype": "text/x-python",
   "name": "python",
   "nbconvert_exporter": "python",
   "pygments_lexer": "ipython3",
   "version": "3.11.5"
  }
 },
 "nbformat": 4,
 "nbformat_minor": 5
}
